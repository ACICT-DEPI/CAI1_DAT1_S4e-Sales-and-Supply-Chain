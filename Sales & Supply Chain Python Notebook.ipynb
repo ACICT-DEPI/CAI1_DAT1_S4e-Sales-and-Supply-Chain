{
 "cells": [
  {
   "cell_type": "markdown",
   "id": "6b3f2ace-ecfe-477c-8407-cd82d4138b8e",
   "metadata": {
    "jp-MarkdownHeadingCollapsed": true
   },
   "source": [
    "### Imported Libraries"
   ]
  },
  {
   "cell_type": "code",
   "execution_count": 5,
   "id": "594ae029-7dc2-4d7f-9761-841c922c08b5",
   "metadata": {},
   "outputs": [],
   "source": [
    "import pandas as pd\n",
    "import matplotlib.pyplot as plt\n",
    "import seaborn as sns\n",
    "from IPython.display import HTML"
   ]
  },
  {
   "cell_type": "markdown",
   "id": "a9d863b6-827f-4e5a-9f06-558506c2cdeb",
   "metadata": {
    "jp-MarkdownHeadingCollapsed": true
   },
   "source": [
    "### Overview"
   ]
  },
  {
   "cell_type": "code",
   "execution_count": 7,
   "id": "e4011924-779b-4543-8ca9-d7fbf455db8a",
   "metadata": {},
   "outputs": [],
   "source": [
    "df = pd.read_csv(r'C:\\Users\\nopog\\OneDrive\\Documents\\DEPI\\Datasets\\Data Co\\DataCoSupplyChainDataset.csv', encoding = 'unicode_escape')"
   ]
  },
  {
   "cell_type": "code",
   "execution_count": 8,
   "id": "f0984ddc-5838-4f3e-bd45-b2570a94db50",
   "metadata": {},
   "outputs": [
    {
     "data": {
      "text/plain": [
       "(180519, 53)"
      ]
     },
     "execution_count": 8,
     "metadata": {},
     "output_type": "execute_result"
    }
   ],
   "source": [
    "df.shape"
   ]
  },
  {
   "cell_type": "code",
   "execution_count": 9,
   "id": "0c8e6bed-6107-4e74-a51b-e31f81b0dec8",
   "metadata": {},
   "outputs": [
    {
     "name": "stdout",
     "output_type": "stream",
     "text": [
      "<class 'pandas.core.frame.DataFrame'>\n",
      "RangeIndex: 180519 entries, 0 to 180518\n",
      "Data columns (total 53 columns):\n",
      " #   Column                         Non-Null Count   Dtype  \n",
      "---  ------                         --------------   -----  \n",
      " 0   Type                           180519 non-null  object \n",
      " 1   Days for shipping (real)       180519 non-null  int64  \n",
      " 2   Days for shipment (scheduled)  180519 non-null  int64  \n",
      " 3   Benefit per order              180519 non-null  float64\n",
      " 4   Sales per customer             180519 non-null  float64\n",
      " 5   Delivery Status                180519 non-null  object \n",
      " 6   Late_delivery_risk             180519 non-null  int64  \n",
      " 7   Category Id                    180519 non-null  int64  \n",
      " 8   Category Name                  180519 non-null  object \n",
      " 9   Customer City                  180519 non-null  object \n",
      " 10  Customer Country               180519 non-null  object \n",
      " 11  Customer Email                 180519 non-null  object \n",
      " 12  Customer Fname                 180519 non-null  object \n",
      " 13  Customer Id                    180519 non-null  int64  \n",
      " 14  Customer Lname                 180511 non-null  object \n",
      " 15  Customer Password              180519 non-null  object \n",
      " 16  Customer Segment               180519 non-null  object \n",
      " 17  Customer State                 180519 non-null  object \n",
      " 18  Customer Street                180519 non-null  object \n",
      " 19  Customer Zipcode               180516 non-null  float64\n",
      " 20  Department Id                  180519 non-null  int64  \n",
      " 21  Department Name                180519 non-null  object \n",
      " 22  Latitude                       180519 non-null  float64\n",
      " 23  Longitude                      180519 non-null  float64\n",
      " 24  Market                         180519 non-null  object \n",
      " 25  Order City                     180519 non-null  object \n",
      " 26  Order Country                  180519 non-null  object \n",
      " 27  Order Customer Id              180519 non-null  int64  \n",
      " 28  order date (DateOrders)        180519 non-null  object \n",
      " 29  Order Id                       180519 non-null  int64  \n",
      " 30  Order Item Cardprod Id         180519 non-null  int64  \n",
      " 31  Order Item Discount            180519 non-null  float64\n",
      " 32  Order Item Discount Rate       180519 non-null  float64\n",
      " 33  Order Item Id                  180519 non-null  int64  \n",
      " 34  Order Item Product Price       180519 non-null  float64\n",
      " 35  Order Item Profit Ratio        180519 non-null  float64\n",
      " 36  Order Item Quantity            180519 non-null  int64  \n",
      " 37  Sales                          180519 non-null  float64\n",
      " 38  Order Item Total               180519 non-null  float64\n",
      " 39  Order Profit Per Order         180519 non-null  float64\n",
      " 40  Order Region                   180519 non-null  object \n",
      " 41  Order State                    180519 non-null  object \n",
      " 42  Order Status                   180519 non-null  object \n",
      " 43  Order Zipcode                  24840 non-null   float64\n",
      " 44  Product Card Id                180519 non-null  int64  \n",
      " 45  Product Category Id            180519 non-null  int64  \n",
      " 46  Product Description            0 non-null       float64\n",
      " 47  Product Image                  180519 non-null  object \n",
      " 48  Product Name                   180519 non-null  object \n",
      " 49  Product Price                  180519 non-null  float64\n",
      " 50  Product Status                 180519 non-null  int64  \n",
      " 51  shipping date (DateOrders)     180519 non-null  object \n",
      " 52  Shipping Mode                  180519 non-null  object \n",
      "dtypes: float64(15), int64(14), object(24)\n",
      "memory usage: 73.0+ MB\n"
     ]
    }
   ],
   "source": [
    "df.info()"
   ]
  },
  {
   "cell_type": "code",
   "execution_count": 10,
   "id": "13f388bc-47c1-463d-9bcd-f7ef524155a7",
   "metadata": {},
   "outputs": [
    {
     "data": {
      "text/plain": [
       "0"
      ]
     },
     "execution_count": 10,
     "metadata": {},
     "output_type": "execute_result"
    }
   ],
   "source": [
    "df.duplicated().sum()"
   ]
  },
  {
   "cell_type": "code",
   "execution_count": 11,
   "id": "c76684e4-0026-43b6-8378-7e8a1b13674e",
   "metadata": {},
   "outputs": [
    {
     "data": {
      "text/html": [
       "<div>\n",
       "<style scoped>\n",
       "    .dataframe tbody tr th:only-of-type {\n",
       "        vertical-align: middle;\n",
       "    }\n",
       "\n",
       "    .dataframe tbody tr th {\n",
       "        vertical-align: top;\n",
       "    }\n",
       "\n",
       "    .dataframe thead th {\n",
       "        text-align: right;\n",
       "    }\n",
       "</style>\n",
       "<table border=\"1\" class=\"dataframe\">\n",
       "  <thead>\n",
       "    <tr style=\"text-align: right;\">\n",
       "      <th></th>\n",
       "      <th>Type</th>\n",
       "      <th>Days for shipping (real)</th>\n",
       "      <th>Days for shipment (scheduled)</th>\n",
       "      <th>Benefit per order</th>\n",
       "      <th>Sales per customer</th>\n",
       "      <th>Delivery Status</th>\n",
       "      <th>Late_delivery_risk</th>\n",
       "      <th>Category Id</th>\n",
       "      <th>Category Name</th>\n",
       "      <th>Customer City</th>\n",
       "      <th>...</th>\n",
       "      <th>Order Zipcode</th>\n",
       "      <th>Product Card Id</th>\n",
       "      <th>Product Category Id</th>\n",
       "      <th>Product Description</th>\n",
       "      <th>Product Image</th>\n",
       "      <th>Product Name</th>\n",
       "      <th>Product Price</th>\n",
       "      <th>Product Status</th>\n",
       "      <th>shipping date (DateOrders)</th>\n",
       "      <th>Shipping Mode</th>\n",
       "    </tr>\n",
       "  </thead>\n",
       "  <tbody>\n",
       "    <tr>\n",
       "      <th>0</th>\n",
       "      <td>DEBIT</td>\n",
       "      <td>3</td>\n",
       "      <td>4</td>\n",
       "      <td>91.250000</td>\n",
       "      <td>314.640015</td>\n",
       "      <td>Advance shipping</td>\n",
       "      <td>0</td>\n",
       "      <td>73</td>\n",
       "      <td>Sporting Goods</td>\n",
       "      <td>Caguas</td>\n",
       "      <td>...</td>\n",
       "      <td>NaN</td>\n",
       "      <td>1360</td>\n",
       "      <td>73</td>\n",
       "      <td>NaN</td>\n",
       "      <td>http://images.acmesports.sports/Smart+watch</td>\n",
       "      <td>Smart watch</td>\n",
       "      <td>327.75</td>\n",
       "      <td>0</td>\n",
       "      <td>2/3/2018 22:56</td>\n",
       "      <td>Standard Class</td>\n",
       "    </tr>\n",
       "    <tr>\n",
       "      <th>1</th>\n",
       "      <td>TRANSFER</td>\n",
       "      <td>5</td>\n",
       "      <td>4</td>\n",
       "      <td>-249.089996</td>\n",
       "      <td>311.359985</td>\n",
       "      <td>Late delivery</td>\n",
       "      <td>1</td>\n",
       "      <td>73</td>\n",
       "      <td>Sporting Goods</td>\n",
       "      <td>Caguas</td>\n",
       "      <td>...</td>\n",
       "      <td>NaN</td>\n",
       "      <td>1360</td>\n",
       "      <td>73</td>\n",
       "      <td>NaN</td>\n",
       "      <td>http://images.acmesports.sports/Smart+watch</td>\n",
       "      <td>Smart watch</td>\n",
       "      <td>327.75</td>\n",
       "      <td>0</td>\n",
       "      <td>1/18/2018 12:27</td>\n",
       "      <td>Standard Class</td>\n",
       "    </tr>\n",
       "    <tr>\n",
       "      <th>2</th>\n",
       "      <td>CASH</td>\n",
       "      <td>4</td>\n",
       "      <td>4</td>\n",
       "      <td>-247.779999</td>\n",
       "      <td>309.720001</td>\n",
       "      <td>Shipping on time</td>\n",
       "      <td>0</td>\n",
       "      <td>73</td>\n",
       "      <td>Sporting Goods</td>\n",
       "      <td>San Jose</td>\n",
       "      <td>...</td>\n",
       "      <td>NaN</td>\n",
       "      <td>1360</td>\n",
       "      <td>73</td>\n",
       "      <td>NaN</td>\n",
       "      <td>http://images.acmesports.sports/Smart+watch</td>\n",
       "      <td>Smart watch</td>\n",
       "      <td>327.75</td>\n",
       "      <td>0</td>\n",
       "      <td>1/17/2018 12:06</td>\n",
       "      <td>Standard Class</td>\n",
       "    </tr>\n",
       "    <tr>\n",
       "      <th>3</th>\n",
       "      <td>DEBIT</td>\n",
       "      <td>3</td>\n",
       "      <td>4</td>\n",
       "      <td>22.860001</td>\n",
       "      <td>304.809998</td>\n",
       "      <td>Advance shipping</td>\n",
       "      <td>0</td>\n",
       "      <td>73</td>\n",
       "      <td>Sporting Goods</td>\n",
       "      <td>Los Angeles</td>\n",
       "      <td>...</td>\n",
       "      <td>NaN</td>\n",
       "      <td>1360</td>\n",
       "      <td>73</td>\n",
       "      <td>NaN</td>\n",
       "      <td>http://images.acmesports.sports/Smart+watch</td>\n",
       "      <td>Smart watch</td>\n",
       "      <td>327.75</td>\n",
       "      <td>0</td>\n",
       "      <td>1/16/2018 11:45</td>\n",
       "      <td>Standard Class</td>\n",
       "    </tr>\n",
       "    <tr>\n",
       "      <th>4</th>\n",
       "      <td>PAYMENT</td>\n",
       "      <td>2</td>\n",
       "      <td>4</td>\n",
       "      <td>134.210007</td>\n",
       "      <td>298.250000</td>\n",
       "      <td>Advance shipping</td>\n",
       "      <td>0</td>\n",
       "      <td>73</td>\n",
       "      <td>Sporting Goods</td>\n",
       "      <td>Caguas</td>\n",
       "      <td>...</td>\n",
       "      <td>NaN</td>\n",
       "      <td>1360</td>\n",
       "      <td>73</td>\n",
       "      <td>NaN</td>\n",
       "      <td>http://images.acmesports.sports/Smart+watch</td>\n",
       "      <td>Smart watch</td>\n",
       "      <td>327.75</td>\n",
       "      <td>0</td>\n",
       "      <td>1/15/2018 11:24</td>\n",
       "      <td>Standard Class</td>\n",
       "    </tr>\n",
       "    <tr>\n",
       "      <th>5</th>\n",
       "      <td>TRANSFER</td>\n",
       "      <td>6</td>\n",
       "      <td>4</td>\n",
       "      <td>18.580000</td>\n",
       "      <td>294.980011</td>\n",
       "      <td>Shipping canceled</td>\n",
       "      <td>0</td>\n",
       "      <td>73</td>\n",
       "      <td>Sporting Goods</td>\n",
       "      <td>Tonawanda</td>\n",
       "      <td>...</td>\n",
       "      <td>NaN</td>\n",
       "      <td>1360</td>\n",
       "      <td>73</td>\n",
       "      <td>NaN</td>\n",
       "      <td>http://images.acmesports.sports/Smart+watch</td>\n",
       "      <td>Smart watch</td>\n",
       "      <td>327.75</td>\n",
       "      <td>0</td>\n",
       "      <td>1/19/2018 11:03</td>\n",
       "      <td>Standard Class</td>\n",
       "    </tr>\n",
       "    <tr>\n",
       "      <th>6</th>\n",
       "      <td>DEBIT</td>\n",
       "      <td>2</td>\n",
       "      <td>1</td>\n",
       "      <td>95.180000</td>\n",
       "      <td>288.420013</td>\n",
       "      <td>Late delivery</td>\n",
       "      <td>1</td>\n",
       "      <td>73</td>\n",
       "      <td>Sporting Goods</td>\n",
       "      <td>Caguas</td>\n",
       "      <td>...</td>\n",
       "      <td>NaN</td>\n",
       "      <td>1360</td>\n",
       "      <td>73</td>\n",
       "      <td>NaN</td>\n",
       "      <td>http://images.acmesports.sports/Smart+watch</td>\n",
       "      <td>Smart watch</td>\n",
       "      <td>327.75</td>\n",
       "      <td>0</td>\n",
       "      <td>1/15/2018 10:42</td>\n",
       "      <td>First Class</td>\n",
       "    </tr>\n",
       "    <tr>\n",
       "      <th>7</th>\n",
       "      <td>TRANSFER</td>\n",
       "      <td>2</td>\n",
       "      <td>1</td>\n",
       "      <td>68.430000</td>\n",
       "      <td>285.140015</td>\n",
       "      <td>Late delivery</td>\n",
       "      <td>1</td>\n",
       "      <td>73</td>\n",
       "      <td>Sporting Goods</td>\n",
       "      <td>Miami</td>\n",
       "      <td>...</td>\n",
       "      <td>NaN</td>\n",
       "      <td>1360</td>\n",
       "      <td>73</td>\n",
       "      <td>NaN</td>\n",
       "      <td>http://images.acmesports.sports/Smart+watch</td>\n",
       "      <td>Smart watch</td>\n",
       "      <td>327.75</td>\n",
       "      <td>0</td>\n",
       "      <td>1/15/2018 10:21</td>\n",
       "      <td>First Class</td>\n",
       "    </tr>\n",
       "    <tr>\n",
       "      <th>8</th>\n",
       "      <td>CASH</td>\n",
       "      <td>3</td>\n",
       "      <td>2</td>\n",
       "      <td>133.720001</td>\n",
       "      <td>278.589996</td>\n",
       "      <td>Late delivery</td>\n",
       "      <td>1</td>\n",
       "      <td>73</td>\n",
       "      <td>Sporting Goods</td>\n",
       "      <td>Caguas</td>\n",
       "      <td>...</td>\n",
       "      <td>NaN</td>\n",
       "      <td>1360</td>\n",
       "      <td>73</td>\n",
       "      <td>NaN</td>\n",
       "      <td>http://images.acmesports.sports/Smart+watch</td>\n",
       "      <td>Smart watch</td>\n",
       "      <td>327.75</td>\n",
       "      <td>0</td>\n",
       "      <td>1/16/2018 10:00</td>\n",
       "      <td>Second Class</td>\n",
       "    </tr>\n",
       "    <tr>\n",
       "      <th>9</th>\n",
       "      <td>CASH</td>\n",
       "      <td>2</td>\n",
       "      <td>1</td>\n",
       "      <td>132.149994</td>\n",
       "      <td>275.309998</td>\n",
       "      <td>Late delivery</td>\n",
       "      <td>1</td>\n",
       "      <td>73</td>\n",
       "      <td>Sporting Goods</td>\n",
       "      <td>San Ramon</td>\n",
       "      <td>...</td>\n",
       "      <td>NaN</td>\n",
       "      <td>1360</td>\n",
       "      <td>73</td>\n",
       "      <td>NaN</td>\n",
       "      <td>http://images.acmesports.sports/Smart+watch</td>\n",
       "      <td>Smart watch</td>\n",
       "      <td>327.75</td>\n",
       "      <td>0</td>\n",
       "      <td>1/15/2018 9:39</td>\n",
       "      <td>First Class</td>\n",
       "    </tr>\n",
       "  </tbody>\n",
       "</table>\n",
       "<p>10 rows × 53 columns</p>\n",
       "</div>"
      ],
      "text/plain": [
       "       Type  Days for shipping (real)  Days for shipment (scheduled)  \\\n",
       "0     DEBIT                         3                              4   \n",
       "1  TRANSFER                         5                              4   \n",
       "2      CASH                         4                              4   \n",
       "3     DEBIT                         3                              4   \n",
       "4   PAYMENT                         2                              4   \n",
       "5  TRANSFER                         6                              4   \n",
       "6     DEBIT                         2                              1   \n",
       "7  TRANSFER                         2                              1   \n",
       "8      CASH                         3                              2   \n",
       "9      CASH                         2                              1   \n",
       "\n",
       "   Benefit per order  Sales per customer    Delivery Status  \\\n",
       "0          91.250000          314.640015   Advance shipping   \n",
       "1        -249.089996          311.359985      Late delivery   \n",
       "2        -247.779999          309.720001   Shipping on time   \n",
       "3          22.860001          304.809998   Advance shipping   \n",
       "4         134.210007          298.250000   Advance shipping   \n",
       "5          18.580000          294.980011  Shipping canceled   \n",
       "6          95.180000          288.420013      Late delivery   \n",
       "7          68.430000          285.140015      Late delivery   \n",
       "8         133.720001          278.589996      Late delivery   \n",
       "9         132.149994          275.309998      Late delivery   \n",
       "\n",
       "   Late_delivery_risk  Category Id   Category Name Customer City  ...  \\\n",
       "0                   0           73  Sporting Goods        Caguas  ...   \n",
       "1                   1           73  Sporting Goods        Caguas  ...   \n",
       "2                   0           73  Sporting Goods      San Jose  ...   \n",
       "3                   0           73  Sporting Goods   Los Angeles  ...   \n",
       "4                   0           73  Sporting Goods        Caguas  ...   \n",
       "5                   0           73  Sporting Goods     Tonawanda  ...   \n",
       "6                   1           73  Sporting Goods        Caguas  ...   \n",
       "7                   1           73  Sporting Goods         Miami  ...   \n",
       "8                   1           73  Sporting Goods        Caguas  ...   \n",
       "9                   1           73  Sporting Goods     San Ramon  ...   \n",
       "\n",
       "  Order Zipcode Product Card Id Product Category Id  Product Description  \\\n",
       "0           NaN            1360                  73                  NaN   \n",
       "1           NaN            1360                  73                  NaN   \n",
       "2           NaN            1360                  73                  NaN   \n",
       "3           NaN            1360                  73                  NaN   \n",
       "4           NaN            1360                  73                  NaN   \n",
       "5           NaN            1360                  73                  NaN   \n",
       "6           NaN            1360                  73                  NaN   \n",
       "7           NaN            1360                  73                  NaN   \n",
       "8           NaN            1360                  73                  NaN   \n",
       "9           NaN            1360                  73                  NaN   \n",
       "\n",
       "                                  Product Image  Product Name Product Price  \\\n",
       "0  http://images.acmesports.sports/Smart+watch   Smart watch         327.75   \n",
       "1  http://images.acmesports.sports/Smart+watch   Smart watch         327.75   \n",
       "2  http://images.acmesports.sports/Smart+watch   Smart watch         327.75   \n",
       "3  http://images.acmesports.sports/Smart+watch   Smart watch         327.75   \n",
       "4  http://images.acmesports.sports/Smart+watch   Smart watch         327.75   \n",
       "5  http://images.acmesports.sports/Smart+watch   Smart watch         327.75   \n",
       "6  http://images.acmesports.sports/Smart+watch   Smart watch         327.75   \n",
       "7  http://images.acmesports.sports/Smart+watch   Smart watch         327.75   \n",
       "8  http://images.acmesports.sports/Smart+watch   Smart watch         327.75   \n",
       "9  http://images.acmesports.sports/Smart+watch   Smart watch         327.75   \n",
       "\n",
       "  Product Status shipping date (DateOrders)   Shipping Mode  \n",
       "0              0             2/3/2018 22:56  Standard Class  \n",
       "1              0            1/18/2018 12:27  Standard Class  \n",
       "2              0            1/17/2018 12:06  Standard Class  \n",
       "3              0            1/16/2018 11:45  Standard Class  \n",
       "4              0            1/15/2018 11:24  Standard Class  \n",
       "5              0            1/19/2018 11:03  Standard Class  \n",
       "6              0            1/15/2018 10:42     First Class  \n",
       "7              0            1/15/2018 10:21     First Class  \n",
       "8              0            1/16/2018 10:00    Second Class  \n",
       "9              0             1/15/2018 9:39     First Class  \n",
       "\n",
       "[10 rows x 53 columns]"
      ]
     },
     "execution_count": 11,
     "metadata": {},
     "output_type": "execute_result"
    }
   ],
   "source": [
    "df.head(10)"
   ]
  },
  {
   "cell_type": "code",
   "execution_count": 12,
   "id": "7d9bf94b-92dd-4a33-b722-cfd0acb6a7be",
   "metadata": {},
   "outputs": [],
   "source": [
    "df.drop(['Product Description', 'Order Zipcode'], axis = 1, inplace = True)"
   ]
  },
  {
   "cell_type": "code",
   "execution_count": 15,
   "id": "09883b14-0451-4876-b941-f0477a4a2a6b",
   "metadata": {},
   "outputs": [
    {
     "name": "stdout",
     "output_type": "stream",
     "text": [
      "<class 'pandas.core.frame.DataFrame'>\n",
      "RangeIndex: 180519 entries, 0 to 180518\n",
      "Data columns (total 51 columns):\n",
      " #   Column                         Non-Null Count   Dtype  \n",
      "---  ------                         --------------   -----  \n",
      " 0   Type                           180519 non-null  object \n",
      " 1   Days for shipping (real)       180519 non-null  int64  \n",
      " 2   Days for shipment (scheduled)  180519 non-null  int64  \n",
      " 3   Benefit per order              180519 non-null  float64\n",
      " 4   Sales per customer             180519 non-null  float64\n",
      " 5   Delivery Status                180519 non-null  object \n",
      " 6   Late_delivery_risk             180519 non-null  int64  \n",
      " 7   Category Id                    180519 non-null  int64  \n",
      " 8   Category Name                  180519 non-null  object \n",
      " 9   Customer City                  180519 non-null  object \n",
      " 10  Customer Country               180519 non-null  object \n",
      " 11  Customer Email                 180519 non-null  object \n",
      " 12  Customer Fname                 180519 non-null  object \n",
      " 13  Customer Id                    180519 non-null  int64  \n",
      " 14  Customer Lname                 180511 non-null  object \n",
      " 15  Customer Password              180519 non-null  object \n",
      " 16  Customer Segment               180519 non-null  object \n",
      " 17  Customer State                 180519 non-null  object \n",
      " 18  Customer Street                180519 non-null  object \n",
      " 19  Customer Zipcode               180516 non-null  float64\n",
      " 20  Department Id                  180519 non-null  int64  \n",
      " 21  Department Name                180519 non-null  object \n",
      " 22  Latitude                       180519 non-null  float64\n",
      " 23  Longitude                      180519 non-null  float64\n",
      " 24  Market                         180519 non-null  object \n",
      " 25  Order City                     180519 non-null  object \n",
      " 26  Order Country                  180519 non-null  object \n",
      " 27  Order Customer Id              180519 non-null  int64  \n",
      " 28  order date (DateOrders)        180519 non-null  object \n",
      " 29  Order Id                       180519 non-null  int64  \n",
      " 30  Order Item Cardprod Id         180519 non-null  int64  \n",
      " 31  Order Item Discount            180519 non-null  float64\n",
      " 32  Order Item Discount Rate       180519 non-null  float64\n",
      " 33  Order Item Id                  180519 non-null  int64  \n",
      " 34  Order Item Product Price       180519 non-null  float64\n",
      " 35  Order Item Profit Ratio        180519 non-null  float64\n",
      " 36  Order Item Quantity            180519 non-null  int64  \n",
      " 37  Sales                          180519 non-null  float64\n",
      " 38  Order Item Total               180519 non-null  float64\n",
      " 39  Order Profit Per Order         180519 non-null  float64\n",
      " 40  Order Region                   180519 non-null  object \n",
      " 41  Order State                    180519 non-null  object \n",
      " 42  Order Status                   180519 non-null  object \n",
      " 43  Product Card Id                180519 non-null  int64  \n",
      " 44  Product Category Id            180519 non-null  int64  \n",
      " 45  Product Image                  180519 non-null  object \n",
      " 46  Product Name                   180519 non-null  object \n",
      " 47  Product Price                  180519 non-null  float64\n",
      " 48  Product Status                 180519 non-null  int64  \n",
      " 49  shipping date (DateOrders)     180519 non-null  object \n",
      " 50  Shipping Mode                  180519 non-null  object \n",
      "dtypes: float64(13), int64(14), object(24)\n",
      "memory usage: 70.2+ MB\n"
     ]
    }
   ],
   "source": [
    "df.info()"
   ]
  },
  {
   "cell_type": "markdown",
   "id": "0f31184d-6faf-49aa-9687-54705a6755a8",
   "metadata": {
    "jp-MarkdownHeadingCollapsed": true
   },
   "source": [
    "### Customer Table"
   ]
  },
  {
   "cell_type": "code",
   "execution_count": 21,
   "id": "c73d0eb4-489b-4ad0-8104-0b85f3001c21",
   "metadata": {},
   "outputs": [],
   "source": [
    "dfcus = df[['Customer Id', 'Customer Fname', 'Customer Lname', 'Customer Email', 'Customer Password', 'Customer Country', 'Customer State', 'Customer City', 'Customer Street', 'Customer Zipcode', 'Customer Segment']] "
   ]
  },
  {
   "cell_type": "code",
   "execution_count": 23,
   "id": "41027e49-9857-4aa4-8759-a3ffc4452401",
   "metadata": {},
   "outputs": [],
   "source": [
    "dfcus.columns = dfcus.columns.str.split().str[-1]\n",
    "dfcus = dfcus.rename(columns={'Id': 'ID'})"
   ]
  },
  {
   "cell_type": "code",
   "execution_count": 25,
   "id": "10bc9c58-6329-4d43-9aed-677633356493",
   "metadata": {},
   "outputs": [
    {
     "name": "stdout",
     "output_type": "stream",
     "text": [
      "<class 'pandas.core.frame.DataFrame'>\n",
      "RangeIndex: 180519 entries, 0 to 180518\n",
      "Data columns (total 11 columns):\n",
      " #   Column    Non-Null Count   Dtype  \n",
      "---  ------    --------------   -----  \n",
      " 0   ID        180519 non-null  int64  \n",
      " 1   Fname     180519 non-null  object \n",
      " 2   Lname     180511 non-null  object \n",
      " 3   Email     180519 non-null  object \n",
      " 4   Password  180519 non-null  object \n",
      " 5   Country   180519 non-null  object \n",
      " 6   State     180519 non-null  object \n",
      " 7   City      180519 non-null  object \n",
      " 8   Street    180519 non-null  object \n",
      " 9   Zipcode   180516 non-null  float64\n",
      " 10  Segment   180519 non-null  object \n",
      "dtypes: float64(1), int64(1), object(9)\n",
      "memory usage: 15.1+ MB\n"
     ]
    }
   ],
   "source": [
    "dfcus.info()"
   ]
  },
  {
   "cell_type": "code",
   "execution_count": 27,
   "id": "fac98924-cb8a-48fc-bcc8-7890db0de882",
   "metadata": {},
   "outputs": [
    {
     "data": {
      "text/plain": [
       "159867"
      ]
     },
     "execution_count": 27,
     "metadata": {},
     "output_type": "execute_result"
    }
   ],
   "source": [
    "dfcus.duplicated().sum()"
   ]
  },
  {
   "cell_type": "code",
   "execution_count": 29,
   "id": "4c176f48-1508-4bb6-9686-f5ecf4f74b02",
   "metadata": {},
   "outputs": [],
   "source": [
    "dfcus = dfcus.drop_duplicates()"
   ]
  },
  {
   "cell_type": "code",
   "execution_count": 31,
   "id": "a630ebd9-02ba-419f-90be-d20ecb908f7d",
   "metadata": {},
   "outputs": [
    {
     "data": {
      "text/plain": [
       "0"
      ]
     },
     "execution_count": 31,
     "metadata": {},
     "output_type": "execute_result"
    }
   ],
   "source": [
    "dfcus.duplicated().sum()"
   ]
  },
  {
   "cell_type": "code",
   "execution_count": 33,
   "id": "10c3a451-482b-4ab2-8986-80984cdeab06",
   "metadata": {},
   "outputs": [],
   "source": [
    "dfcus = dfcus.fillna('Unknown')"
   ]
  },
  {
   "cell_type": "code",
   "execution_count": 35,
   "id": "a2fbc346-cd47-4bd3-b9a9-d3ee20c13718",
   "metadata": {},
   "outputs": [
    {
     "data": {
      "text/plain": [
       "0"
      ]
     },
     "execution_count": 35,
     "metadata": {},
     "output_type": "execute_result"
    }
   ],
   "source": [
    "dfcus['ID'].duplicated().sum()"
   ]
  },
  {
   "cell_type": "code",
   "execution_count": 37,
   "id": "a1aaaf3e-84ad-4f85-ac17-8063a82690ab",
   "metadata": {},
   "outputs": [
    {
     "name": "stdout",
     "output_type": "stream",
     "text": [
      "<class 'pandas.core.frame.DataFrame'>\n",
      "Index: 20652 entries, 0 to 179271\n",
      "Data columns (total 11 columns):\n",
      " #   Column    Non-Null Count  Dtype \n",
      "---  ------    --------------  ----- \n",
      " 0   ID        20652 non-null  int64 \n",
      " 1   Fname     20652 non-null  object\n",
      " 2   Lname     20652 non-null  object\n",
      " 3   Email     20652 non-null  object\n",
      " 4   Password  20652 non-null  object\n",
      " 5   Country   20652 non-null  object\n",
      " 6   State     20652 non-null  object\n",
      " 7   City      20652 non-null  object\n",
      " 8   Street    20652 non-null  object\n",
      " 9   Zipcode   20652 non-null  object\n",
      " 10  Segment   20652 non-null  object\n",
      "dtypes: int64(1), object(10)\n",
      "memory usage: 1.9+ MB\n"
     ]
    }
   ],
   "source": [
    "dfcus.info()"
   ]
  },
  {
   "cell_type": "code",
   "execution_count": 39,
   "id": "844af76c-8939-4071-ad9d-7be9338255be",
   "metadata": {},
   "outputs": [
    {
     "data": {
      "text/html": [
       "<div>\n",
       "<style scoped>\n",
       "    .dataframe tbody tr th:only-of-type {\n",
       "        vertical-align: middle;\n",
       "    }\n",
       "\n",
       "    .dataframe tbody tr th {\n",
       "        vertical-align: top;\n",
       "    }\n",
       "\n",
       "    .dataframe thead th {\n",
       "        text-align: right;\n",
       "    }\n",
       "</style>\n",
       "<table border=\"1\" class=\"dataframe\">\n",
       "  <thead>\n",
       "    <tr style=\"text-align: right;\">\n",
       "      <th></th>\n",
       "      <th>ID</th>\n",
       "      <th>Fname</th>\n",
       "      <th>Lname</th>\n",
       "      <th>Email</th>\n",
       "      <th>Password</th>\n",
       "      <th>Country</th>\n",
       "      <th>State</th>\n",
       "      <th>City</th>\n",
       "      <th>Street</th>\n",
       "      <th>Zipcode</th>\n",
       "      <th>Segment</th>\n",
       "    </tr>\n",
       "  </thead>\n",
       "  <tbody>\n",
       "    <tr>\n",
       "      <th>0</th>\n",
       "      <td>20755</td>\n",
       "      <td>Cally</td>\n",
       "      <td>Holloway</td>\n",
       "      <td>XXXXXXXXX</td>\n",
       "      <td>XXXXXXXXX</td>\n",
       "      <td>Puerto Rico</td>\n",
       "      <td>PR</td>\n",
       "      <td>Caguas</td>\n",
       "      <td>5365 Noble Nectar Island</td>\n",
       "      <td>725.0</td>\n",
       "      <td>Consumer</td>\n",
       "    </tr>\n",
       "    <tr>\n",
       "      <th>1</th>\n",
       "      <td>19492</td>\n",
       "      <td>Irene</td>\n",
       "      <td>Luna</td>\n",
       "      <td>XXXXXXXXX</td>\n",
       "      <td>XXXXXXXXX</td>\n",
       "      <td>Puerto Rico</td>\n",
       "      <td>PR</td>\n",
       "      <td>Caguas</td>\n",
       "      <td>2679 Rustic Loop</td>\n",
       "      <td>725.0</td>\n",
       "      <td>Consumer</td>\n",
       "    </tr>\n",
       "    <tr>\n",
       "      <th>2</th>\n",
       "      <td>19491</td>\n",
       "      <td>Gillian</td>\n",
       "      <td>Maldonado</td>\n",
       "      <td>XXXXXXXXX</td>\n",
       "      <td>XXXXXXXXX</td>\n",
       "      <td>EE. UU.</td>\n",
       "      <td>CA</td>\n",
       "      <td>San Jose</td>\n",
       "      <td>8510 Round Bear Gate</td>\n",
       "      <td>95125.0</td>\n",
       "      <td>Consumer</td>\n",
       "    </tr>\n",
       "    <tr>\n",
       "      <th>3</th>\n",
       "      <td>19490</td>\n",
       "      <td>Tana</td>\n",
       "      <td>Tate</td>\n",
       "      <td>XXXXXXXXX</td>\n",
       "      <td>XXXXXXXXX</td>\n",
       "      <td>EE. UU.</td>\n",
       "      <td>CA</td>\n",
       "      <td>Los Angeles</td>\n",
       "      <td>3200 Amber Bend</td>\n",
       "      <td>90027.0</td>\n",
       "      <td>Home Office</td>\n",
       "    </tr>\n",
       "    <tr>\n",
       "      <th>4</th>\n",
       "      <td>19489</td>\n",
       "      <td>Orli</td>\n",
       "      <td>Hendricks</td>\n",
       "      <td>XXXXXXXXX</td>\n",
       "      <td>XXXXXXXXX</td>\n",
       "      <td>Puerto Rico</td>\n",
       "      <td>PR</td>\n",
       "      <td>Caguas</td>\n",
       "      <td>8671 Iron Anchor Corners</td>\n",
       "      <td>725.0</td>\n",
       "      <td>Corporate</td>\n",
       "    </tr>\n",
       "  </tbody>\n",
       "</table>\n",
       "</div>"
      ],
      "text/plain": [
       "      ID    Fname      Lname      Email   Password      Country State  \\\n",
       "0  20755    Cally   Holloway  XXXXXXXXX  XXXXXXXXX  Puerto Rico    PR   \n",
       "1  19492    Irene       Luna  XXXXXXXXX  XXXXXXXXX  Puerto Rico    PR   \n",
       "2  19491  Gillian  Maldonado  XXXXXXXXX  XXXXXXXXX      EE. UU.    CA   \n",
       "3  19490     Tana       Tate  XXXXXXXXX  XXXXXXXXX      EE. UU.    CA   \n",
       "4  19489     Orli  Hendricks  XXXXXXXXX  XXXXXXXXX  Puerto Rico    PR   \n",
       "\n",
       "          City                    Street  Zipcode      Segment  \n",
       "0       Caguas  5365 Noble Nectar Island    725.0     Consumer  \n",
       "1       Caguas          2679 Rustic Loop    725.0     Consumer  \n",
       "2     San Jose      8510 Round Bear Gate  95125.0     Consumer  \n",
       "3  Los Angeles           3200 Amber Bend  90027.0  Home Office  \n",
       "4       Caguas  8671 Iron Anchor Corners    725.0    Corporate  "
      ]
     },
     "execution_count": 39,
     "metadata": {},
     "output_type": "execute_result"
    }
   ],
   "source": [
    "dfcus.head()"
   ]
  },
  {
   "cell_type": "code",
   "execution_count": 41,
   "id": "f9871377-f6cb-427a-a9c7-ca80a706165c",
   "metadata": {},
   "outputs": [
    {
     "data": {
      "text/plain": [
       "array(['Puerto Rico', 'EE. UU.'], dtype=object)"
      ]
     },
     "execution_count": 41,
     "metadata": {},
     "output_type": "execute_result"
    }
   ],
   "source": [
    "dfcus['Country'].unique()"
   ]
  },
  {
   "cell_type": "code",
   "execution_count": 43,
   "id": "68439266-d598-4f54-acf3-e6766e1ff61d",
   "metadata": {},
   "outputs": [],
   "source": [
    "dfcus['Country'] = 'United States'"
   ]
  },
  {
   "cell_type": "code",
   "execution_count": 45,
   "id": "b9ff9727-7e82-4345-a08c-8d6e6bbf9f52",
   "metadata": {},
   "outputs": [
    {
     "data": {
      "text/plain": [
       "array(['PR', 'CA', 'NY', 'FL', 'MA', 'IL', 'MT', 'PA', 'MI', 'TX', 'DE',\n",
       "       'GA', 'MD', 'OH', 'HI', 'NJ', 'WI', 'AZ', 'CO', 'MN', 'NC', 'NM',\n",
       "       'OR', 'SC', 'VA', 'UT', 'WA', 'KY', 'WV', 'RI', 'CT', 'LA', 'TN',\n",
       "       'DC', 'ND', 'MO', 'IN', 'ID', 'NV', 'KS', 'AR', 'OK', 'AL', 'IA',\n",
       "       '95758', '91732'], dtype=object)"
      ]
     },
     "execution_count": 45,
     "metadata": {},
     "output_type": "execute_result"
    }
   ],
   "source": [
    "dfcus['State'].unique()"
   ]
  },
  {
   "cell_type": "code",
   "execution_count": 47,
   "id": "facf1d82-c5c3-46d5-804b-a176a192716a",
   "metadata": {},
   "outputs": [],
   "source": [
    "dfcus['State'] = dfcus['State'].replace({\n",
    "    'PR': 'Puerto Rico', 'CA': 'California', 'NY': 'New York', 'FL': 'Florida',\n",
    "    'MA': 'Massachusetts', 'IL': 'Illinois', 'MT': 'Montana', 'PA': 'Pennsylvania',\n",
    "    'MI': 'Michigan', 'TX': 'Texas', 'DE': 'Delaware', 'GA': 'Georgia',\n",
    "    'MD': 'Maryland', 'OH': 'Ohio', 'HI': 'Hawaii', 'NJ': 'New Jersey',\n",
    "    'WI': 'Wisconsin', 'AZ': 'Arizona', 'CO': 'Colorado', 'MN': 'Minnesota',\n",
    "    'NC': 'North Carolina', 'NM': 'New Mexico', 'OR': 'Oregon', 'SC': 'South Carolina',\n",
    "    'VA': 'Virginia', 'UT': 'Utah', 'WA': 'Washington', 'KY': 'Kentucky',\n",
    "    'WV': 'West Virginia', 'RI': 'Rhode Island', 'CT': 'Connecticut',\n",
    "    'LA': 'Louisiana', 'TN': 'Tennessee', 'DC': 'District of Columbia',\n",
    "    'ND': 'North Dakota', 'MO': 'Missouri', 'IN': 'Indiana', 'ID': 'Idaho',\n",
    "    'NV': 'Nevada', 'KS': 'Kansas', 'AR': 'Arkansas', 'OK': 'Oklahoma',\n",
    "    'AL': 'Alabama', 'IA': 'Iowa', '95758': 'Unknown', '91732': 'Unknown'})"
   ]
  },
  {
   "cell_type": "code",
   "execution_count": 49,
   "id": "a66b806c-78b5-4d51-8d5a-58a3625a6257",
   "metadata": {},
   "outputs": [
    {
     "data": {
      "text/plain": [
       "array(['Caguas', 'San Jose', 'Los Angeles', 'Tonawanda', 'Miami',\n",
       "       'San Ramon', 'Freeport', 'Salinas', 'Peabody', 'Canovanas',\n",
       "       'Paramount', 'Mount Prospect', 'Long Beach', 'Rancho Cordova',\n",
       "       'Billings', 'Wilkes Barre', 'Roseville', 'Bellflower', 'Wheaton',\n",
       "       'Detroit', 'Dallas', 'Carlisle', 'Newark', 'Panorama City',\n",
       "       'Atlanta', 'Fremont', 'Rochester', 'Bayamon', 'Guayama',\n",
       "       'Juana Diaz', 'Fort Washington', 'Bakersfield', 'Corona',\n",
       "       'Cincinnati', 'Germantown', 'Carrollton', 'Houston', 'Ewa Beach',\n",
       "       'Lakewood', 'Rome', 'Vista', 'Fort Worth', 'Fond Du Lac',\n",
       "       'Philadelphia', 'Ontario', 'Oviedo', 'Buffalo', 'Honolulu',\n",
       "       'Oceanside', 'North Tonawanda', 'Clovis', 'Jamaica',\n",
       "       'Granite City', 'Medford', 'Pomona', 'Tempe', 'Santa Ana', 'York',\n",
       "       'Aurora', 'Simi Valley', 'Silver Spring', 'Saint Paul',\n",
       "       'San Antonio', 'Bronx', 'Greenville', 'Morristown', 'San Diego',\n",
       "       'Oxnard', 'Albuquerque', 'Amarillo', 'Lutz', 'Bend',\n",
       "       'East Brunswick', 'Lancaster', 'Hampton', 'New York',\n",
       "       'Porterville', 'Portland', 'Strongsville', 'El Paso', 'Del Rio',\n",
       "       'Bountiful', 'Kent', 'Chicago', 'Plymouth', 'Far Rockaway',\n",
       "       'Garden Grove', 'Placentia', 'Mentor', 'Santa Clara', 'Union',\n",
       "       'Westminster', 'Pompano Beach', 'Azusa', 'Fort Lauderdale',\n",
       "       'Princeton', 'Perth Amboy', 'Loveland', 'Virginia Beach',\n",
       "       'Louisville', 'Lockport', 'Staten Island', 'Tucson', 'Cleveland',\n",
       "       'Webster', 'Stockton', 'Martinsburg', 'Cumberland', 'Pekin',\n",
       "       'Tallahassee', 'Jacksonville', 'Woonsocket', 'Lithonia',\n",
       "       'Oak Lawn', 'Alhambra', 'New Haven', 'Phoenix', 'Kenner',\n",
       "       'Washington', 'Holland', 'Morrisville', 'Memphis', 'Federal Way',\n",
       "       'West Covina', 'Ventura', 'Valrico', 'Kaneohe', 'Brooklyn', 'Lodi',\n",
       "       'Murfreesboro', 'Carlsbad', 'Hamilton', 'Hayward', 'Bridgeton',\n",
       "       'Bay Shore', 'Palatine', 'Smyrna', 'Van Nuys', 'Opa Locka',\n",
       "       'Edison', 'Baytown', 'Sylmar', 'Burnsville', 'Huntington Station',\n",
       "       'Sunnyvale', 'Sugar Land', 'Brighton', 'Bismarck', 'Gaithersburg',\n",
       "       'Lilburn', 'Provo', 'Columbia', 'Marietta', 'Rio Grande', 'Denver',\n",
       "       'Taylor', 'Saint Charles', 'Cupertino', 'Springfield',\n",
       "       'Mission Viejo', 'Roswell', 'Ypsilanti', 'Peoria', 'Clementon',\n",
       "       'Antioch', 'Salt Lake City', 'Granada Hills', 'Hempstead',\n",
       "       'Astoria', 'Gilroy', 'Lenoir', 'Columbus', 'Albany', 'Humacao',\n",
       "       'Lindenhurst', 'Elyria', 'Riverside', 'Carson', 'Mesa', 'San Juan',\n",
       "       'Vega Baja', 'Mayaguez', 'Arecibo', 'San Sebastian', 'Eugene',\n",
       "       'Algonquin', 'Indianapolis', 'Buena Park', 'Catonsville',\n",
       "       'Jersey City', 'Lombard', 'New Bedford', 'Newburgh', 'Lansdale',\n",
       "       'Baltimore', 'Fullerton', 'Sacramento', 'Greensboro', 'Roseburg',\n",
       "       'Modesto', 'Encinitas', 'Watsonville', 'Meridian', 'Endicott',\n",
       "       'Katy', 'Visalia', 'Lompoc', 'Ogden', 'Raleigh',\n",
       "       'Hacienda Heights', 'Union City', 'Hollywood', 'Bolingbrook',\n",
       "       'West Lafayette', 'Woodbridge', 'Weslaco', 'Bell Gardens',\n",
       "       'La Mirada', 'North Bergen', 'Madison', 'South San Francisco',\n",
       "       'North Las Vegas', 'Methuen', 'Costa Mesa', 'Glen Burnie',\n",
       "       'Fairfield', 'Winnetka', 'Mcallen', 'Joliet', 'Brownsville',\n",
       "       'Pawtucket', 'Colorado Springs', 'Quincy', 'Pittsfield', 'Chino',\n",
       "       'Marion', 'North Hills', 'Salina', 'Hyattsville',\n",
       "       'North Richland Hills', 'Spring Valley', 'Lawrence', 'Milpitas',\n",
       "       'Rowland Heights', 'Gardena', 'Cicero', 'Asheboro', 'La Crosse',\n",
       "       'Florissant', 'Canyon Country', 'Ithaca', 'Allentown', 'Escondido',\n",
       "       'Martinez', 'Troy', 'Arlington', 'Davis', 'Chandler', 'Elgin',\n",
       "       'Palmdale', 'Massapequa', 'Pittsburg', 'West New York', 'Orlando',\n",
       "       'Hanover', 'Glendale', 'Enfield', 'Baldwin Park', 'Chino Hills',\n",
       "       'Toms River', 'Wyandotte', 'Mililani', 'Harvey', 'Mechanicsburg',\n",
       "       'Opelousas', 'Kailua', 'Norfolk', 'Elmhurst', 'Chillicothe',\n",
       "       'Canoga Park', 'Jackson', 'Moreno Valley', 'New Orleans',\n",
       "       'San Benito', 'New Castle', 'Bloomfield', 'Cypress', 'Marrero',\n",
       "       'Grand Prairie', 'Greeley', 'Littleton', 'Longmont', 'Chesapeake',\n",
       "       'Englewood', 'Arlington Heights', 'Tampa', 'Irvington',\n",
       "       'Forest Hills', 'Dearborn', 'Compton', 'Garland', 'Waipahu',\n",
       "       'Carmichael', 'Tustin', 'Anaheim', 'Canton', 'Stafford',\n",
       "       'South Richmond Hill', 'Middletown', 'West Orange', 'Daly City',\n",
       "       'Powder Springs', 'Parkville', 'Hialeah', 'Beloit', 'Aguadilla',\n",
       "       'Carolina', 'Yauco', 'Saint Peters', 'Augusta', 'Chapel Hill',\n",
       "       'East Lansing', 'Stamford', 'Diamond Bar', 'Milwaukee',\n",
       "       'Lawrenceville', 'Manchester', 'La Puente', 'Victorville',\n",
       "       'Richmond', 'Eagle Pass', 'Fontana', 'Ballwin', 'New Braunfels',\n",
       "       'Las Vegas', 'Goose Creek', 'Pharr', 'Yonkers', 'El Monte',\n",
       "       'Reynoldsburg', 'Hamtramck', 'Medina', 'Highland', 'Jonesboro',\n",
       "       'Elk Grove', 'Montebello', 'San Francisco', 'Glenview',\n",
       "       'Rock Hill', 'Austin', 'Scottsdale', 'Santa Cruz', 'Oregon City',\n",
       "       'Annandale', 'Plano', 'Piscataway', 'El Cajon', 'Hilliard',\n",
       "       'Orange Park', 'Decatur', 'San Pablo', 'Douglasville', 'Henderson',\n",
       "       'College Station', 'Round Rock', 'Mesquite', 'Broken Arrow',\n",
       "       'Redmond', 'Findlay', 'La Habra', 'Laguna Hills', 'San Bernardino',\n",
       "       'Apex', 'South El Monte', 'Irving', 'Blacksburg',\n",
       "       'Dorchester Center', 'Potomac', 'Winter Park', 'Stone Mountain',\n",
       "       'Goleta', 'Hagerstown', 'Alameda', 'Saint Louis', 'Pico Rivera',\n",
       "       'Chula Vista', 'Hollister', 'North Hollywood', 'New Brunswick',\n",
       "       'Beaverton', 'Chicago Heights', 'Hesperia', 'Cary', 'Sanford',\n",
       "       'Laredo', 'Westland', 'Stockbridge', 'Carol Stream', 'Wichita',\n",
       "       'Olathe', 'Flushing', 'Lynwood', 'Revere', 'Westerville',\n",
       "       'Cordova', 'Hanford', 'Rialto', 'Mchenry', 'Mission', 'Salem',\n",
       "       'Duluth', 'Danbury', 'Frankfort', 'Upland', 'Rosemead',\n",
       "       'Mount Pleasant', 'Lake Forest', 'West Chester', 'Woodside',\n",
       "       'Norcross', 'Fresno', 'Zanesville', 'Painesville', 'Lynnwood',\n",
       "       'Massillon', 'Crystal Lake', 'Rego Park', 'Ann Arbor', 'Wyoming',\n",
       "       'La Mesa', 'Edinburg', 'Howell', 'Michigan City', 'Sheboygan',\n",
       "       'Moline', 'Yuma', 'Campbell', 'Charlotte', 'Oakland', 'San Marcos',\n",
       "       'Walnut', 'Harlingen', 'Rio Rancho', 'Nashville', 'Annapolis',\n",
       "       'Laguna Niguel', 'Santee', 'West Jordan', 'Hickory', 'Manati',\n",
       "       'Trujillo Alto', 'Ponce', 'Toa Alta', 'Irwin', 'South Ozone Park',\n",
       "       'Ridgewood', 'Bowling Green', 'Richardson', 'Sun Valley',\n",
       "       'Huntington Beach', 'Fargo', 'Waukegan', 'Highland Park',\n",
       "       'Cerritos', 'Lewisville', 'Alpharetta', 'New Albany', 'Denton',\n",
       "       'Temecula', 'Tinley Park', 'Dundalk', 'Crown Point', 'Lawton',\n",
       "       'Fayetteville', 'Milford', 'Bartlett', 'Reno', 'Passaic', 'Reseda',\n",
       "       'Levittown', 'Wayne', 'Metairie', 'Wheeling', 'Hawthorne', 'Napa',\n",
       "       'Berwyn', 'Fountain Valley', 'Las Cruces', 'Apopka', 'Folsom',\n",
       "       'El Centro', 'Jackson Heights', 'Pacoima', 'Hendersonville',\n",
       "       'Clearfield', 'Seattle', 'Saginaw', 'Conway', 'Sandusky',\n",
       "       'San Pedro', 'Grove City', 'Knoxville', 'Huntington Park',\n",
       "       'Greensburg', 'Poway', 'O Fallon', 'Chambersburg', 'Normal',\n",
       "       'Lynn', 'Bensalem', 'Bristol', 'Williamsport', 'Longview',\n",
       "       'Norwalk', 'Bayonne', 'Tulare', 'National City', 'Dayton', 'Tracy',\n",
       "       'Summerville', 'Merced', 'Brockton', 'Vallejo', 'West Haven',\n",
       "       'Pasadena', 'South Gate', 'Warren', 'Clarksville', 'Muskegon',\n",
       "       'Brandon', 'Rancho Cucamonga', 'Santa Maria', 'Doylestown',\n",
       "       'Colton', 'Indio', 'Plainfield', 'Bellingham', 'Spring',\n",
       "       'Livermore', 'Santa Fe', 'Palo Alto', 'Henrico', 'Des Plaines',\n",
       "       'Birmingham', 'Broomfield', 'Guaynabo', 'Cayey', 'Citrus Heights',\n",
       "       'Spokane', 'Dubuque', 'Madera', 'Everett', 'Brentwood',\n",
       "       'Morganton', 'Vacaville', 'Malden', 'Gwynn Oak', 'Toa Baja',\n",
       "       'Taunton', 'Freehold', 'Sumner', 'Wilmington', 'CA'], dtype=object)"
      ]
     },
     "execution_count": 49,
     "metadata": {},
     "output_type": "execute_result"
    }
   ],
   "source": [
    "dfcus['City'].unique()"
   ]
  },
  {
   "cell_type": "code",
   "execution_count": 51,
   "id": "84754ccf-6431-49b8-a85f-c73869f76d0e",
   "metadata": {},
   "outputs": [],
   "source": [
    "dfcus['City'] = dfcus['City'].replace('CA', 'California')"
   ]
  },
  {
   "cell_type": "code",
   "execution_count": 53,
   "id": "d2f9d695-29be-4be6-89dc-82b32e3ed88e",
   "metadata": {},
   "outputs": [
    {
     "data": {
      "text/html": [
       "<div>\n",
       "<style scoped>\n",
       "    .dataframe tbody tr th:only-of-type {\n",
       "        vertical-align: middle;\n",
       "    }\n",
       "\n",
       "    .dataframe tbody tr th {\n",
       "        vertical-align: top;\n",
       "    }\n",
       "\n",
       "    .dataframe thead th {\n",
       "        text-align: right;\n",
       "    }\n",
       "</style>\n",
       "<table border=\"1\" class=\"dataframe\">\n",
       "  <thead>\n",
       "    <tr style=\"text-align: right;\">\n",
       "      <th></th>\n",
       "      <th>ID</th>\n",
       "      <th>Fname</th>\n",
       "      <th>Lname</th>\n",
       "      <th>Email</th>\n",
       "      <th>Password</th>\n",
       "      <th>Country</th>\n",
       "      <th>State</th>\n",
       "      <th>City</th>\n",
       "      <th>Street</th>\n",
       "      <th>Zipcode</th>\n",
       "      <th>Segment</th>\n",
       "    </tr>\n",
       "  </thead>\n",
       "  <tbody>\n",
       "    <tr>\n",
       "      <th>0</th>\n",
       "      <td>20755</td>\n",
       "      <td>Cally</td>\n",
       "      <td>Holloway</td>\n",
       "      <td>XXXXXXXXX</td>\n",
       "      <td>XXXXXXXXX</td>\n",
       "      <td>United States</td>\n",
       "      <td>Puerto Rico</td>\n",
       "      <td>Caguas</td>\n",
       "      <td>5365 Noble Nectar Island</td>\n",
       "      <td>725.0</td>\n",
       "      <td>Consumer</td>\n",
       "    </tr>\n",
       "    <tr>\n",
       "      <th>1</th>\n",
       "      <td>19492</td>\n",
       "      <td>Irene</td>\n",
       "      <td>Luna</td>\n",
       "      <td>XXXXXXXXX</td>\n",
       "      <td>XXXXXXXXX</td>\n",
       "      <td>United States</td>\n",
       "      <td>Puerto Rico</td>\n",
       "      <td>Caguas</td>\n",
       "      <td>2679 Rustic Loop</td>\n",
       "      <td>725.0</td>\n",
       "      <td>Consumer</td>\n",
       "    </tr>\n",
       "    <tr>\n",
       "      <th>2</th>\n",
       "      <td>19491</td>\n",
       "      <td>Gillian</td>\n",
       "      <td>Maldonado</td>\n",
       "      <td>XXXXXXXXX</td>\n",
       "      <td>XXXXXXXXX</td>\n",
       "      <td>United States</td>\n",
       "      <td>California</td>\n",
       "      <td>San Jose</td>\n",
       "      <td>8510 Round Bear Gate</td>\n",
       "      <td>95125.0</td>\n",
       "      <td>Consumer</td>\n",
       "    </tr>\n",
       "    <tr>\n",
       "      <th>3</th>\n",
       "      <td>19490</td>\n",
       "      <td>Tana</td>\n",
       "      <td>Tate</td>\n",
       "      <td>XXXXXXXXX</td>\n",
       "      <td>XXXXXXXXX</td>\n",
       "      <td>United States</td>\n",
       "      <td>California</td>\n",
       "      <td>Los Angeles</td>\n",
       "      <td>3200 Amber Bend</td>\n",
       "      <td>90027.0</td>\n",
       "      <td>Home Office</td>\n",
       "    </tr>\n",
       "    <tr>\n",
       "      <th>4</th>\n",
       "      <td>19489</td>\n",
       "      <td>Orli</td>\n",
       "      <td>Hendricks</td>\n",
       "      <td>XXXXXXXXX</td>\n",
       "      <td>XXXXXXXXX</td>\n",
       "      <td>United States</td>\n",
       "      <td>Puerto Rico</td>\n",
       "      <td>Caguas</td>\n",
       "      <td>8671 Iron Anchor Corners</td>\n",
       "      <td>725.0</td>\n",
       "      <td>Corporate</td>\n",
       "    </tr>\n",
       "  </tbody>\n",
       "</table>\n",
       "</div>"
      ],
      "text/plain": [
       "      ID    Fname      Lname      Email   Password        Country  \\\n",
       "0  20755    Cally   Holloway  XXXXXXXXX  XXXXXXXXX  United States   \n",
       "1  19492    Irene       Luna  XXXXXXXXX  XXXXXXXXX  United States   \n",
       "2  19491  Gillian  Maldonado  XXXXXXXXX  XXXXXXXXX  United States   \n",
       "3  19490     Tana       Tate  XXXXXXXXX  XXXXXXXXX  United States   \n",
       "4  19489     Orli  Hendricks  XXXXXXXXX  XXXXXXXXX  United States   \n",
       "\n",
       "         State         City                    Street  Zipcode      Segment  \n",
       "0  Puerto Rico       Caguas  5365 Noble Nectar Island    725.0     Consumer  \n",
       "1  Puerto Rico       Caguas          2679 Rustic Loop    725.0     Consumer  \n",
       "2   California     San Jose      8510 Round Bear Gate  95125.0     Consumer  \n",
       "3   California  Los Angeles           3200 Amber Bend  90027.0  Home Office  \n",
       "4  Puerto Rico       Caguas  8671 Iron Anchor Corners    725.0    Corporate  "
      ]
     },
     "execution_count": 53,
     "metadata": {},
     "output_type": "execute_result"
    }
   ],
   "source": [
    "dfcus.head()"
   ]
  },
  {
   "cell_type": "code",
   "execution_count": 55,
   "id": "16f11e64-6c98-4341-ad5f-780d9b6c9ec4",
   "metadata": {},
   "outputs": [
    {
     "name": "stdout",
     "output_type": "stream",
     "text": [
      "<class 'pandas.core.frame.DataFrame'>\n",
      "Index: 20652 entries, 0 to 179271\n",
      "Data columns (total 11 columns):\n",
      " #   Column    Non-Null Count  Dtype \n",
      "---  ------    --------------  ----- \n",
      " 0   ID        20652 non-null  int64 \n",
      " 1   Fname     20652 non-null  object\n",
      " 2   Lname     20652 non-null  object\n",
      " 3   Email     20652 non-null  object\n",
      " 4   Password  20652 non-null  object\n",
      " 5   Country   20652 non-null  object\n",
      " 6   State     20652 non-null  object\n",
      " 7   City      20652 non-null  object\n",
      " 8   Street    20652 non-null  object\n",
      " 9   Zipcode   20652 non-null  object\n",
      " 10  Segment   20652 non-null  object\n",
      "dtypes: int64(1), object(10)\n",
      "memory usage: 1.9+ MB\n"
     ]
    }
   ],
   "source": [
    "dfcus.info()"
   ]
  },
  {
   "cell_type": "code",
   "execution_count": 57,
   "id": "5702cf35-b6f2-49bc-8f0b-a3fba13dcef9",
   "metadata": {},
   "outputs": [],
   "source": [
    "df.drop(['Customer Fname', 'Customer Lname', 'Customer Email', 'Customer Password', 'Customer Country', 'Customer State', 'Customer City', 'Customer Street', 'Customer Zipcode', 'Customer Segment'], axis = 1, inplace = True)"
   ]
  },
  {
   "cell_type": "code",
   "execution_count": 59,
   "id": "ca824d24-6966-411a-92fd-7fc5bc940180",
   "metadata": {},
   "outputs": [
    {
     "data": {
      "text/plain": [
       "0"
      ]
     },
     "execution_count": 59,
     "metadata": {},
     "output_type": "execute_result"
    }
   ],
   "source": [
    "df.duplicated().sum()"
   ]
  },
  {
   "cell_type": "code",
   "execution_count": 61,
   "id": "9ddb4231-6d86-42ff-afb9-213742c30381",
   "metadata": {},
   "outputs": [
    {
     "data": {
      "text/html": [
       "<a href=\"Customers.csv\" download=\"Customers.csv\">Click here to download the CSV</a>"
      ],
      "text/plain": [
       "<IPython.core.display.HTML object>"
      ]
     },
     "execution_count": 61,
     "metadata": {},
     "output_type": "execute_result"
    }
   ],
   "source": [
    "dfcus.to_csv(\"Customers.csv\", index = False)\n",
    "HTML('<a href=\"Customers.csv\" download=\"Customers.csv\">Click here to download the CSV</a>')"
   ]
  },
  {
   "cell_type": "markdown",
   "id": "5fc381b8-5132-4392-83ac-1f9a5f804e37",
   "metadata": {
    "jp-MarkdownHeadingCollapsed": true
   },
   "source": [
    "### Category Table"
   ]
  },
  {
   "cell_type": "code",
   "execution_count": 63,
   "id": "b77b0304-da82-40d2-a2dd-49e2e2094a67",
   "metadata": {},
   "outputs": [],
   "source": [
    "dfcat = df[['Category Id', 'Category Name']]"
   ]
  },
  {
   "cell_type": "code",
   "execution_count": 65,
   "id": "9c6a195e-2349-4617-895d-8e9e50692c54",
   "metadata": {},
   "outputs": [
    {
     "name": "stdout",
     "output_type": "stream",
     "text": [
      "<class 'pandas.core.frame.DataFrame'>\n",
      "RangeIndex: 180519 entries, 0 to 180518\n",
      "Data columns (total 2 columns):\n",
      " #   Column         Non-Null Count   Dtype \n",
      "---  ------         --------------   ----- \n",
      " 0   Category Id    180519 non-null  int64 \n",
      " 1   Category Name  180519 non-null  object\n",
      "dtypes: int64(1), object(1)\n",
      "memory usage: 2.8+ MB\n"
     ]
    }
   ],
   "source": [
    "dfcat.info()"
   ]
  },
  {
   "cell_type": "code",
   "execution_count": 67,
   "id": "a4099db3-547e-4013-a51d-901d18ba1846",
   "metadata": {},
   "outputs": [],
   "source": [
    "dfcat.columns = dfcat.columns.str.split().str[-1]\n",
    "dfcat = dfcat.rename(columns={'Id': 'ID'})"
   ]
  },
  {
   "cell_type": "code",
   "execution_count": 69,
   "id": "bd52e5e2-b8e6-41b1-bf5c-847e6a4c3b6d",
   "metadata": {},
   "outputs": [
    {
     "data": {
      "text/plain": [
       "180468"
      ]
     },
     "execution_count": 69,
     "metadata": {},
     "output_type": "execute_result"
    }
   ],
   "source": [
    "dfcat.duplicated().sum()"
   ]
  },
  {
   "cell_type": "code",
   "execution_count": 71,
   "id": "fdf71a49-aada-41fd-9d06-1b3f3b394473",
   "metadata": {},
   "outputs": [],
   "source": [
    "dfcat = dfcat.drop_duplicates()"
   ]
  },
  {
   "cell_type": "code",
   "execution_count": 73,
   "id": "37b31d0c-5ffa-487b-a9e0-37a03cea813d",
   "metadata": {},
   "outputs": [
    {
     "data": {
      "text/plain": [
       "0"
      ]
     },
     "execution_count": 73,
     "metadata": {},
     "output_type": "execute_result"
    }
   ],
   "source": [
    "dfcat.duplicated().sum()"
   ]
  },
  {
   "cell_type": "code",
   "execution_count": 75,
   "id": "c4db52cd-2e8d-4b48-bae8-b6d458cb1c3b",
   "metadata": {},
   "outputs": [
    {
     "data": {
      "text/plain": [
       "0"
      ]
     },
     "execution_count": 75,
     "metadata": {},
     "output_type": "execute_result"
    }
   ],
   "source": [
    "dfcat['ID'].duplicated().sum()"
   ]
  },
  {
   "cell_type": "code",
   "execution_count": 77,
   "id": "efe0903b-2c35-4a7f-94dc-3899f4a30aff",
   "metadata": {},
   "outputs": [
    {
     "name": "stdout",
     "output_type": "stream",
     "text": [
      "<class 'pandas.core.frame.DataFrame'>\n",
      "Index: 51 entries, 0 to 77052\n",
      "Data columns (total 2 columns):\n",
      " #   Column  Non-Null Count  Dtype \n",
      "---  ------  --------------  ----- \n",
      " 0   ID      51 non-null     int64 \n",
      " 1   Name    51 non-null     object\n",
      "dtypes: int64(1), object(1)\n",
      "memory usage: 1.2+ KB\n"
     ]
    }
   ],
   "source": [
    "dfcat.info()"
   ]
  },
  {
   "cell_type": "code",
   "execution_count": 79,
   "id": "507f5d8f-ae2a-4d20-ba0f-f90d2ef58c72",
   "metadata": {},
   "outputs": [
    {
     "data": {
      "text/html": [
       "<div>\n",
       "<style scoped>\n",
       "    .dataframe tbody tr th:only-of-type {\n",
       "        vertical-align: middle;\n",
       "    }\n",
       "\n",
       "    .dataframe tbody tr th {\n",
       "        vertical-align: top;\n",
       "    }\n",
       "\n",
       "    .dataframe thead th {\n",
       "        text-align: right;\n",
       "    }\n",
       "</style>\n",
       "<table border=\"1\" class=\"dataframe\">\n",
       "  <thead>\n",
       "    <tr style=\"text-align: right;\">\n",
       "      <th></th>\n",
       "      <th>ID</th>\n",
       "      <th>Name</th>\n",
       "    </tr>\n",
       "  </thead>\n",
       "  <tbody>\n",
       "    <tr>\n",
       "      <th>0</th>\n",
       "      <td>73</td>\n",
       "      <td>Sporting Goods</td>\n",
       "    </tr>\n",
       "    <tr>\n",
       "      <th>48</th>\n",
       "      <td>17</td>\n",
       "      <td>Cleats</td>\n",
       "    </tr>\n",
       "    <tr>\n",
       "      <th>49</th>\n",
       "      <td>29</td>\n",
       "      <td>Shop By Sport</td>\n",
       "    </tr>\n",
       "    <tr>\n",
       "      <th>50</th>\n",
       "      <td>24</td>\n",
       "      <td>Women's Apparel</td>\n",
       "    </tr>\n",
       "    <tr>\n",
       "      <th>55</th>\n",
       "      <td>13</td>\n",
       "      <td>Electronics</td>\n",
       "    </tr>\n",
       "  </tbody>\n",
       "</table>\n",
       "</div>"
      ],
      "text/plain": [
       "    ID             Name\n",
       "0   73   Sporting Goods\n",
       "48  17           Cleats\n",
       "49  29    Shop By Sport\n",
       "50  24  Women's Apparel\n",
       "55  13      Electronics"
      ]
     },
     "execution_count": 79,
     "metadata": {},
     "output_type": "execute_result"
    }
   ],
   "source": [
    "dfcat.head()"
   ]
  },
  {
   "cell_type": "code",
   "execution_count": 81,
   "id": "050f1a52-0052-4bcd-9ab2-fb8ebb56e55b",
   "metadata": {},
   "outputs": [
    {
     "data": {
      "text/plain": [
       "array(['Sporting Goods', 'Cleats', 'Shop By Sport', \"Women's Apparel\",\n",
       "       'Electronics', 'Boxing & MMA', 'Cardio Equipment', 'Trade-In',\n",
       "       \"Kids' Golf Clubs\", 'Hunting & Shooting', 'Baseball & Softball',\n",
       "       \"Men's Footwear\", 'Camping & Hiking', 'Consumer Electronics',\n",
       "       'Cameras ', 'Computers', 'Basketball', 'Soccer', \"Girls' Apparel\",\n",
       "       'Accessories', \"Women's Clothing\", 'Crafts', \"Men's Clothing\",\n",
       "       'Tennis & Racquet', 'Fitness Accessories', 'As Seen on  TV!',\n",
       "       'Golf Balls', 'Strength Training', \"Children's Clothing\",\n",
       "       'Lacrosse', 'Baby ', 'Fishing', 'Books ', 'DVDs', 'CDs ', 'Garden',\n",
       "       'Hockey', 'Pet Supplies', 'Health and Beauty', 'Music',\n",
       "       'Video Games', 'Golf Gloves', 'Golf Bags & Carts', 'Golf Shoes',\n",
       "       'Golf Apparel', \"Women's Golf Clubs\", \"Men's Golf Clubs\", 'Toys',\n",
       "       'Water Sports', 'Indoor/Outdoor Games'], dtype=object)"
      ]
     },
     "execution_count": 81,
     "metadata": {},
     "output_type": "execute_result"
    }
   ],
   "source": [
    "dfcat['Name'].unique()"
   ]
  },
  {
   "cell_type": "code",
   "execution_count": 83,
   "id": "9a5c6cad-f185-4e27-8a34-ac884deb9537",
   "metadata": {},
   "outputs": [],
   "source": [
    "df.drop(['Category Name'], axis = 1, inplace = True)"
   ]
  },
  {
   "cell_type": "code",
   "execution_count": 85,
   "id": "3d461a36-da3e-47ea-a54e-3b861458a82f",
   "metadata": {},
   "outputs": [
    {
     "data": {
      "text/plain": [
       "0"
      ]
     },
     "execution_count": 85,
     "metadata": {},
     "output_type": "execute_result"
    }
   ],
   "source": [
    "df.duplicated().sum()"
   ]
  },
  {
   "cell_type": "code",
   "execution_count": 86,
   "id": "72021640-3db6-462d-83cc-93fae710168d",
   "metadata": {},
   "outputs": [
    {
     "data": {
      "text/html": [
       "<a href=\"Categories.csv\" download=\"Categories.csv\">Click here to download the CSV</a>"
      ],
      "text/plain": [
       "<IPython.core.display.HTML object>"
      ]
     },
     "execution_count": 86,
     "metadata": {},
     "output_type": "execute_result"
    }
   ],
   "source": [
    "dfcat.to_csv(\"Categories.csv\", index = False)\n",
    "HTML('<a href=\"Categories.csv\" download=\"Categories.csv\">Click here to download the CSV</a>')"
   ]
  },
  {
   "cell_type": "markdown",
   "id": "d813cbd1-ebe3-464a-8a08-44e841b3fca1",
   "metadata": {
    "jp-MarkdownHeadingCollapsed": true
   },
   "source": [
    "### Department Table"
   ]
  },
  {
   "cell_type": "code",
   "execution_count": 90,
   "id": "f723c955-bb6d-463f-ab2c-6eaeb3e55220",
   "metadata": {},
   "outputs": [],
   "source": [
    "dfd = df[['Department Id', 'Department Name']]"
   ]
  },
  {
   "cell_type": "code",
   "execution_count": 92,
   "id": "67e0a108-6f25-4151-82f1-ec80564a4882",
   "metadata": {},
   "outputs": [
    {
     "name": "stdout",
     "output_type": "stream",
     "text": [
      "<class 'pandas.core.frame.DataFrame'>\n",
      "RangeIndex: 180519 entries, 0 to 180518\n",
      "Data columns (total 2 columns):\n",
      " #   Column           Non-Null Count   Dtype \n",
      "---  ------           --------------   ----- \n",
      " 0   Department Id    180519 non-null  int64 \n",
      " 1   Department Name  180519 non-null  object\n",
      "dtypes: int64(1), object(1)\n",
      "memory usage: 2.8+ MB\n"
     ]
    }
   ],
   "source": [
    "dfd.info()"
   ]
  },
  {
   "cell_type": "code",
   "execution_count": 94,
   "id": "a064f35e-d648-4a3b-96fe-118945509151",
   "metadata": {},
   "outputs": [],
   "source": [
    "dfd.columns = dfd.columns.str.split().str[-1]\n",
    "dfd = dfd.rename(columns={'Id': 'ID'})"
   ]
  },
  {
   "cell_type": "code",
   "execution_count": 96,
   "id": "d048ee91-560d-4b64-97b3-14d6c5deb7fa",
   "metadata": {},
   "outputs": [
    {
     "data": {
      "text/plain": [
       "180508"
      ]
     },
     "execution_count": 96,
     "metadata": {},
     "output_type": "execute_result"
    }
   ],
   "source": [
    "dfd.duplicated().sum()"
   ]
  },
  {
   "cell_type": "code",
   "execution_count": 98,
   "id": "93c87a5c-5223-4335-96f5-9bdd5d128dbb",
   "metadata": {},
   "outputs": [],
   "source": [
    "dfd = dfd.drop_duplicates()"
   ]
  },
  {
   "cell_type": "code",
   "execution_count": 100,
   "id": "083b23fd-8cdd-40fa-a1e6-7fa0707ca5a0",
   "metadata": {},
   "outputs": [
    {
     "data": {
      "text/plain": [
       "0"
      ]
     },
     "execution_count": 100,
     "metadata": {},
     "output_type": "execute_result"
    }
   ],
   "source": [
    "dfd.duplicated().sum()"
   ]
  },
  {
   "cell_type": "code",
   "execution_count": 102,
   "id": "8a5d1443-44cc-4c53-8537-ae72a80676a7",
   "metadata": {},
   "outputs": [
    {
     "data": {
      "text/plain": [
       "0"
      ]
     },
     "execution_count": 102,
     "metadata": {},
     "output_type": "execute_result"
    }
   ],
   "source": [
    "dfd['ID'].duplicated().sum()"
   ]
  },
  {
   "cell_type": "code",
   "execution_count": 104,
   "id": "066ac6d6-514e-4287-8538-5b75a4416da8",
   "metadata": {},
   "outputs": [
    {
     "name": "stdout",
     "output_type": "stream",
     "text": [
      "<class 'pandas.core.frame.DataFrame'>\n",
      "Index: 11 entries, 0 to 3208\n",
      "Data columns (total 2 columns):\n",
      " #   Column  Non-Null Count  Dtype \n",
      "---  ------  --------------  ----- \n",
      " 0   ID      11 non-null     int64 \n",
      " 1   Name    11 non-null     object\n",
      "dtypes: int64(1), object(1)\n",
      "memory usage: 264.0+ bytes\n"
     ]
    }
   ],
   "source": [
    "dfd.info()"
   ]
  },
  {
   "cell_type": "code",
   "execution_count": 106,
   "id": "f1431e2e-af46-46e9-af0f-5d3fb3ebfcef",
   "metadata": {},
   "outputs": [
    {
     "data": {
      "text/html": [
       "<div>\n",
       "<style scoped>\n",
       "    .dataframe tbody tr th:only-of-type {\n",
       "        vertical-align: middle;\n",
       "    }\n",
       "\n",
       "    .dataframe tbody tr th {\n",
       "        vertical-align: top;\n",
       "    }\n",
       "\n",
       "    .dataframe thead th {\n",
       "        text-align: right;\n",
       "    }\n",
       "</style>\n",
       "<table border=\"1\" class=\"dataframe\">\n",
       "  <thead>\n",
       "    <tr style=\"text-align: right;\">\n",
       "      <th></th>\n",
       "      <th>ID</th>\n",
       "      <th>Name</th>\n",
       "    </tr>\n",
       "  </thead>\n",
       "  <tbody>\n",
       "    <tr>\n",
       "      <th>0</th>\n",
       "      <td>2</td>\n",
       "      <td>Fitness</td>\n",
       "    </tr>\n",
       "    <tr>\n",
       "      <th>48</th>\n",
       "      <td>4</td>\n",
       "      <td>Apparel</td>\n",
       "    </tr>\n",
       "    <tr>\n",
       "      <th>49</th>\n",
       "      <td>5</td>\n",
       "      <td>Golf</td>\n",
       "    </tr>\n",
       "    <tr>\n",
       "      <th>55</th>\n",
       "      <td>3</td>\n",
       "      <td>Footwear</td>\n",
       "    </tr>\n",
       "    <tr>\n",
       "      <th>61</th>\n",
       "      <td>6</td>\n",
       "      <td>Outdoors</td>\n",
       "    </tr>\n",
       "  </tbody>\n",
       "</table>\n",
       "</div>"
      ],
      "text/plain": [
       "    ID      Name\n",
       "0    2   Fitness\n",
       "48   4   Apparel\n",
       "49   5      Golf\n",
       "55   3  Footwear\n",
       "61   6  Outdoors"
      ]
     },
     "execution_count": 106,
     "metadata": {},
     "output_type": "execute_result"
    }
   ],
   "source": [
    "dfd.head()"
   ]
  },
  {
   "cell_type": "code",
   "execution_count": 108,
   "id": "dcae5806-7a02-4b8b-810d-7ed7a6eb5d79",
   "metadata": {},
   "outputs": [
    {
     "data": {
      "text/plain": [
       "array(['Fitness', 'Apparel', 'Golf', 'Footwear', 'Outdoors', 'Fan Shop',\n",
       "       'Technology', 'Book Shop', 'Discs Shop', 'Pet Shop',\n",
       "       'Health and Beauty '], dtype=object)"
      ]
     },
     "execution_count": 108,
     "metadata": {},
     "output_type": "execute_result"
    }
   ],
   "source": [
    "dfd['Name'].unique()"
   ]
  },
  {
   "cell_type": "code",
   "execution_count": 110,
   "id": "70088d95-0b94-412c-b42d-d23fb206f608",
   "metadata": {},
   "outputs": [],
   "source": [
    "df.drop(['Department Name'], axis = 1, inplace = True)"
   ]
  },
  {
   "cell_type": "code",
   "execution_count": 112,
   "id": "df9ac755-7da9-4d81-92f1-d098a66404bc",
   "metadata": {},
   "outputs": [
    {
     "data": {
      "text/plain": [
       "0"
      ]
     },
     "execution_count": 112,
     "metadata": {},
     "output_type": "execute_result"
    }
   ],
   "source": [
    "df.duplicated().sum()"
   ]
  },
  {
   "cell_type": "code",
   "execution_count": 114,
   "id": "920b2081-c5ab-480e-87c1-4746b2dc6145",
   "metadata": {},
   "outputs": [
    {
     "data": {
      "text/html": [
       "<a href=\"Departments.csv\" download=\"Departments.csv\">Click here to download the CSV</a>"
      ],
      "text/plain": [
       "<IPython.core.display.HTML object>"
      ]
     },
     "execution_count": 114,
     "metadata": {},
     "output_type": "execute_result"
    }
   ],
   "source": [
    "dfd.to_csv(\"Departments.csv\", index = False)\n",
    "HTML('<a href=\"Departments.csv\" download=\"Departments.csv\">Click here to download the CSV</a>')"
   ]
  },
  {
   "cell_type": "markdown",
   "id": "8294e8f0-9ccc-4982-add5-12e192d23335",
   "metadata": {
    "jp-MarkdownHeadingCollapsed": true
   },
   "source": [
    "### Product Table"
   ]
  },
  {
   "cell_type": "code",
   "execution_count": 117,
   "id": "fc6435a3-42d8-4aab-8d53-ac2116aecd24",
   "metadata": {},
   "outputs": [],
   "source": [
    "dfp = df[['Product Card Id', 'Product Name', 'Product Status', 'Product Price', 'Product Image']]"
   ]
  },
  {
   "cell_type": "code",
   "execution_count": 119,
   "id": "302083d2-8cc4-48eb-b964-cdcf8e9c46a3",
   "metadata": {},
   "outputs": [
    {
     "name": "stdout",
     "output_type": "stream",
     "text": [
      "<class 'pandas.core.frame.DataFrame'>\n",
      "RangeIndex: 180519 entries, 0 to 180518\n",
      "Data columns (total 5 columns):\n",
      " #   Column           Non-Null Count   Dtype  \n",
      "---  ------           --------------   -----  \n",
      " 0   Product Card Id  180519 non-null  int64  \n",
      " 1   Product Name     180519 non-null  object \n",
      " 2   Product Status   180519 non-null  int64  \n",
      " 3   Product Price    180519 non-null  float64\n",
      " 4   Product Image    180519 non-null  object \n",
      "dtypes: float64(1), int64(2), object(2)\n",
      "memory usage: 6.9+ MB\n"
     ]
    }
   ],
   "source": [
    "dfp.info()"
   ]
  },
  {
   "cell_type": "code",
   "execution_count": 121,
   "id": "ff65a34c-62d7-471c-bf86-ec8c7f1108ce",
   "metadata": {},
   "outputs": [],
   "source": [
    "dfp.columns = dfp.columns.str.split().str[-1]\n",
    "dfp = dfp.rename(columns={'Id': 'ID'})\n",
    "dfp = dfp.rename(columns={'Status': 'Availability'})"
   ]
  },
  {
   "cell_type": "code",
   "execution_count": 123,
   "id": "ecf59829-4d5e-4dc7-ae19-e9b3f6359b5a",
   "metadata": {},
   "outputs": [
    {
     "data": {
      "text/plain": [
       "180401"
      ]
     },
     "execution_count": 123,
     "metadata": {},
     "output_type": "execute_result"
    }
   ],
   "source": [
    "dfp.duplicated().sum()"
   ]
  },
  {
   "cell_type": "code",
   "execution_count": 125,
   "id": "9d43e582-ad2e-4435-8685-295715501df0",
   "metadata": {},
   "outputs": [],
   "source": [
    "dfp = dfp.drop_duplicates()"
   ]
  },
  {
   "cell_type": "code",
   "execution_count": 127,
   "id": "de151bc2-9d11-4c03-ac10-71d4c10beea0",
   "metadata": {},
   "outputs": [
    {
     "data": {
      "text/plain": [
       "0"
      ]
     },
     "execution_count": 127,
     "metadata": {},
     "output_type": "execute_result"
    }
   ],
   "source": [
    "dfp.duplicated().sum()"
   ]
  },
  {
   "cell_type": "code",
   "execution_count": 129,
   "id": "c8bc4b81-9201-4a77-8b89-2fe79c29e36f",
   "metadata": {},
   "outputs": [
    {
     "data": {
      "text/plain": [
       "0"
      ]
     },
     "execution_count": 129,
     "metadata": {},
     "output_type": "execute_result"
    }
   ],
   "source": [
    "dfp['ID'].duplicated().sum()"
   ]
  },
  {
   "cell_type": "code",
   "execution_count": 131,
   "id": "590a8143-378a-4f8a-a6f6-197e13b00221",
   "metadata": {},
   "outputs": [
    {
     "name": "stdout",
     "output_type": "stream",
     "text": [
      "<class 'pandas.core.frame.DataFrame'>\n",
      "Index: 118 entries, 0 to 77052\n",
      "Data columns (total 5 columns):\n",
      " #   Column        Non-Null Count  Dtype  \n",
      "---  ------        --------------  -----  \n",
      " 0   ID            118 non-null    int64  \n",
      " 1   Name          118 non-null    object \n",
      " 2   Availability  118 non-null    int64  \n",
      " 3   Price         118 non-null    float64\n",
      " 4   Image         118 non-null    object \n",
      "dtypes: float64(1), int64(2), object(2)\n",
      "memory usage: 5.5+ KB\n"
     ]
    }
   ],
   "source": [
    "dfp.info()"
   ]
  },
  {
   "cell_type": "code",
   "execution_count": 133,
   "id": "2fa9bc20-cb43-4a0a-a116-c55ee673d3cc",
   "metadata": {},
   "outputs": [
    {
     "data": {
      "text/html": [
       "<div>\n",
       "<style scoped>\n",
       "    .dataframe tbody tr th:only-of-type {\n",
       "        vertical-align: middle;\n",
       "    }\n",
       "\n",
       "    .dataframe tbody tr th {\n",
       "        vertical-align: top;\n",
       "    }\n",
       "\n",
       "    .dataframe thead th {\n",
       "        text-align: right;\n",
       "    }\n",
       "</style>\n",
       "<table border=\"1\" class=\"dataframe\">\n",
       "  <thead>\n",
       "    <tr style=\"text-align: right;\">\n",
       "      <th></th>\n",
       "      <th>ID</th>\n",
       "      <th>Name</th>\n",
       "      <th>Availability</th>\n",
       "      <th>Price</th>\n",
       "      <th>Image</th>\n",
       "    </tr>\n",
       "  </thead>\n",
       "  <tbody>\n",
       "    <tr>\n",
       "      <th>0</th>\n",
       "      <td>1360</td>\n",
       "      <td>Smart watch</td>\n",
       "      <td>0</td>\n",
       "      <td>327.750000</td>\n",
       "      <td>http://images.acmesports.sports/Smart+watch</td>\n",
       "    </tr>\n",
       "    <tr>\n",
       "      <th>48</th>\n",
       "      <td>365</td>\n",
       "      <td>Perfect Fitness Perfect Rip Deck</td>\n",
       "      <td>0</td>\n",
       "      <td>59.990002</td>\n",
       "      <td>http://images.acmesports.sports/Perfect+Fitnes...</td>\n",
       "    </tr>\n",
       "    <tr>\n",
       "      <th>49</th>\n",
       "      <td>627</td>\n",
       "      <td>Under Armour Girls' Toddler Spine Surge Runni</td>\n",
       "      <td>0</td>\n",
       "      <td>39.990002</td>\n",
       "      <td>http://images.acmesports.sports/Under+Armour+G...</td>\n",
       "    </tr>\n",
       "    <tr>\n",
       "      <th>50</th>\n",
       "      <td>502</td>\n",
       "      <td>Nike Men's Dri-FIT Victory Golf Polo</td>\n",
       "      <td>0</td>\n",
       "      <td>50.000000</td>\n",
       "      <td>http://images.acmesports.sports/Nike+Men%27s+D...</td>\n",
       "    </tr>\n",
       "    <tr>\n",
       "      <th>55</th>\n",
       "      <td>278</td>\n",
       "      <td>Under Armour Men's Compression EV SL Slide</td>\n",
       "      <td>0</td>\n",
       "      <td>44.990002</td>\n",
       "      <td>http://images.acmesports.sports/Under+Armour+M...</td>\n",
       "    </tr>\n",
       "  </tbody>\n",
       "</table>\n",
       "</div>"
      ],
      "text/plain": [
       "      ID                                           Name  Availability  \\\n",
       "0   1360                                   Smart watch              0   \n",
       "48   365               Perfect Fitness Perfect Rip Deck             0   \n",
       "49   627  Under Armour Girls' Toddler Spine Surge Runni             0   \n",
       "50   502           Nike Men's Dri-FIT Victory Golf Polo             0   \n",
       "55   278     Under Armour Men's Compression EV SL Slide             0   \n",
       "\n",
       "         Price                                              Image  \n",
       "0   327.750000       http://images.acmesports.sports/Smart+watch   \n",
       "48   59.990002  http://images.acmesports.sports/Perfect+Fitnes...  \n",
       "49   39.990002  http://images.acmesports.sports/Under+Armour+G...  \n",
       "50   50.000000  http://images.acmesports.sports/Nike+Men%27s+D...  \n",
       "55   44.990002  http://images.acmesports.sports/Under+Armour+M...  "
      ]
     },
     "execution_count": 133,
     "metadata": {},
     "output_type": "execute_result"
    }
   ],
   "source": [
    "dfp.head()"
   ]
  },
  {
   "cell_type": "code",
   "execution_count": 135,
   "id": "7398cec2-7ace-4697-9e42-0ea16a03ffe4",
   "metadata": {},
   "outputs": [],
   "source": [
    "dfp['Availability'] = dfp['Availability'].replace(0, 'Available')\n",
    "dfp['Availability'] = dfp['Availability'].replace(1, 'Unavailable')"
   ]
  },
  {
   "cell_type": "code",
   "execution_count": 137,
   "id": "00b34a93-7b43-4586-8688-eaae7cd16294",
   "metadata": {},
   "outputs": [
    {
     "data": {
      "text/plain": [
       "array(['Smart watch ', 'Perfect Fitness Perfect Rip Deck',\n",
       "       \"Under Armour Girls' Toddler Spine Surge Runni\",\n",
       "       \"Nike Men's Dri-FIT Victory Golf Polo\",\n",
       "       \"Under Armour Men's Compression EV SL Slide\",\n",
       "       \"Under Armour Women's Micro G Skulpt Running S\",\n",
       "       \"Nike Men's Free 5.0+ Running Shoe\",\n",
       "       \"Glove It Women's Mod Oval 3-Zip Carry All Gol\",\n",
       "       'Bridgestone e6 Straight Distance NFL San Dieg',\n",
       "       \"Columbia Men's PFG Anchor Tough T-Shirt\",\n",
       "       'Titleist Pro V1x Golf Balls',\n",
       "       'Bridgestone e6 Straight Distance NFL Tennesse',\n",
       "       'Polar FT4 Heart Rate Monitor', 'ENO Atlas Hammock Straps',\n",
       "       \"adidas Men's F10 Messi TRX FG Soccer Cleat\",\n",
       "       \"Brooks Women's Ghost 6 Running Shoe\",\n",
       "       \"Nike Men's CJ Elite 2 TD Football Cleat\",\n",
       "       \"Diamondback Women's Serene Classic Comfort Bi\",\n",
       "       'Industrial consumer electronics', 'Web Camera', 'Dell Laptop',\n",
       "       'SOLE E25 Elliptical', 'Elevation Training Mask 2.0',\n",
       "       \"adidas Men's Germany Black Crest Away Tee\",\n",
       "       'Team Golf Pittsburgh Steelers Putter Grip',\n",
       "       'Glove It Urban Brick Golf Towel',\n",
       "       'Team Golf Texas Longhorns Putter Grip',\n",
       "       \"Nike Men's Deutschland Weltmeister Winners Bl\",\n",
       "       'Team Golf St. Louis Cardinals Putter Grip', 'Summer dresses',\n",
       "       'Porcelain crafts', \"Men's gala suit\",\n",
       "       'Team Golf Tennessee Volunteers Putter Grip',\n",
       "       'Team Golf San Francisco Giants Putter Grip',\n",
       "       'Glove It Imperial Golf Towel', \"Nike Men's Comfort 2 Slide\",\n",
       "       'Under Armour Hustle Storm Medium Duffle Bag',\n",
       "       \"Under Armour Kids' Mercenary Slide\",\n",
       "       \"Under Armour Women's Ignite PIP VI Slide\",\n",
       "       \"Nike Men's Free TR 5.0 TB Training Shoe\",\n",
       "       'adidas Youth Germany Black/Red Away Match Soc',\n",
       "       \"TYR Boys' Team Digi Jammer\",\n",
       "       \"Glove It Women's Imperial Golf Glove\",\n",
       "       'Titleist Pro V1x High Numbers Golf Balls',\n",
       "       'Bridgestone e6 Straight Distance NFL Carolina',\n",
       "       \"Under Armour Women's Ignite Slide\",\n",
       "       'Titleist Pro V1x High Numbers Personalized Go',\n",
       "       'GoPro HERO3+ Black Edition Camera', 'Total Gym 1400',\n",
       "       \"Children's heaters\", 'Team Golf New England Patriots Putter Grip',\n",
       "       \"adidas Kids' F5 Messi FG Soccer Cleat\",\n",
       "       \"Nike Women's Tempo Shorts\",\n",
       "       \"Glove It Women's Mod Oval Golf Glove\",\n",
       "       'Titleist Pro V1 High Numbers Personalized Gol',\n",
       "       \"Under Armour Men's Tech II T-Shirt\", 'Baby sweater',\n",
       "       'Mio ALPHA Heart Rate Monitor/Sport Watch',\n",
       "       'Field & Stream Sportsman 16 Gun Fire Safe', 'Sports Books ',\n",
       "       \"Diamondback Boys' Insight 24 Performance Hybr\",\n",
       "       'Polar Loop Activity Tracker', 'Garmin Forerunner 910XT GPS Watch',\n",
       "       'DVDs ', 'CDs of rock',\n",
       "       \"Nike Kids' Grade School KD VI Basketball Shoe\",\n",
       "       \"Nike Women's Free 5.0 TR FIT PRT 4 Training S\",\n",
       "       \"Hirzl Women's Soffft Flex Golf Glove\",\n",
       "       \"The North Face Women's Recon Backpack\", 'Lawn mower',\n",
       "       'Nike Dri-FIT Crew Sock 6 Pack',\n",
       "       \"Nike Women's Legend V-Neck T-Shirt\",\n",
       "       'Garmin Approach S4 Golf GPS Watch',\n",
       "       'insta-bed Neverflat Air Mattress',\n",
       "       \"Nike Men's Kobe IX Elite Low Basketball Shoe\",\n",
       "       'Adult dog supplies', 'First aid kit',\n",
       "       'Garmin Approach S3 Golf GPS Watch', 'Rock music',\n",
       "       'Fighting video games',\n",
       "       'Fitbit The One Wireless Activity & Sleep Trac',\n",
       "       'Stiga Master Series ST3100 Competition Indoor',\n",
       "       \"Diamondback Girls' Clarity 24 Hybrid Bike 201\",\n",
       "       'adidas Brazuca 2014 Official Match Ball',\n",
       "       'GolfBuddy VT3 GPS Watch',\n",
       "       'Bushnell Pro X7 Jolt Slope Rangefinder',\n",
       "       'Yakima DoubleDown Ace Hitch Mount 4-Bike Rack',\n",
       "       \"Nike Men's Fingertrap Max Training Shoe\",\n",
       "       'Bowflex SelectTech 1090 Dumbbells', 'SOLE E35 Elliptical',\n",
       "       \"Hirzl Women's Hybrid Golf Glove\", \"Hirzl Men's Hybrid Golf Glove\",\n",
       "       'TaylorMade 2014 Purelite Stand Bag', 'Bag Boy Beverage Holder',\n",
       "       'Bag Boy M330 Push Cart', 'Clicgear 8.0 Shoe Brush',\n",
       "       'Titleist Small Wheeled Travel Cover', 'Clicgear Rovic Cooler Bag',\n",
       "       'Titleist Club Glove Travel Cover', 'Ogio Race Golf Shoes',\n",
       "       \"LIJA Women's Argyle Golf Polo\",\n",
       "       \"LIJA Women's Eyelet Sleeveless Golf Polo\",\n",
       "       \"LIJA Women's Button Golf Dress\",\n",
       "       \"LIJA Women's Mid-Length Panel Golf Shorts\",\n",
       "       \"TaylorMade Women's RBZ SL Rescue\",\n",
       "       \"Cleveland Golf Women's 588 RTX CB Satin Chrom\",\n",
       "       \"Top Flite Women's 2014 XL Hybrid\",\n",
       "       'MDGolf Pittsburgh Penguins Putter',\n",
       "       'TaylorMade White Smoke IN-12 Putter',\n",
       "       'Cleveland Golf Collegiate My Custom Wedge 588',\n",
       "       \"Merrell Men's All Out Flash Trail Running Sho\",\n",
       "       \"Merrell Women's Grassbow Sport Waterproof Hik\",\n",
       "       \"Merrell Women's Siren Mid Waterproof Hiking B\",\n",
       "       \"Merrell Women's Grassbow Sport Hiking Shoe\", 'Toys ',\n",
       "       'Pelican Sunstream 100 Kayak', 'Pelican Maverick 100X Kayak',\n",
       "       \"O'Brien Men's Neoprene Life Vest\"], dtype=object)"
      ]
     },
     "execution_count": 137,
     "metadata": {},
     "output_type": "execute_result"
    }
   ],
   "source": [
    "dfp['Name'].unique()"
   ]
  },
  {
   "cell_type": "code",
   "execution_count": 139,
   "id": "8cf1c877-dc8d-4275-a8ba-3a0ef145485b",
   "metadata": {},
   "outputs": [
    {
     "data": {
      "text/plain": [
       "array([ 327.75      ,   59.99000168,   39.99000168,   50.        ,\n",
       "         44.99000168,   54.97000122,   99.98999786,   21.98999977,\n",
       "         31.98999977,   30.        ,   47.99000168,   89.98999786,\n",
       "         29.98999977,  129.9900055 ,  299.980011  ,  252.8800049 ,\n",
       "        452.0400085 , 1500.        ,  999.9899902 ,   79.98999786,\n",
       "         25.        ,   24.98999977,   15.98999977,  215.8200073 ,\n",
       "        461.480011  ,  210.8500061 ,   34.99000168,   27.98999977,\n",
       "         70.        ,   19.98999977,   51.99000168,  399.9899902 ,\n",
       "        299.9899902 ,  357.1000061 ,   59.08000183,  199.        ,\n",
       "        399.980011  ,   31.07999992,  109.9499969 ,  164.3800049 ,\n",
       "         11.28999996,   94.98999786,   17.98999977,   99.        ,\n",
       "        532.5800171 ,   22.        ,  149.9900055 ,  199.9900055 ,\n",
       "         84.40000153,  293.0400085 ,  249.9900055 ,  260.6499939 ,\n",
       "         39.75      ,   99.94999695,  329.9899902 ,  159.9900055 ,\n",
       "        599.9899902 ,  189.        ,  124.9899979 , 1999.98999   ,\n",
       "         14.98999977,  179.9900055 ,    9.98999977,  169.9900055 ,\n",
       "         80.        ,   65.        ,  108.        ,  100.        ,\n",
       "        119.9899979 ,  209.9900055 ,  109.9899979 ,  134.9900055 ,\n",
       "         11.53999996,  349.9899902 ,   49.97999954])"
      ]
     },
     "execution_count": 139,
     "metadata": {},
     "output_type": "execute_result"
    }
   ],
   "source": [
    "dfp['Price'].unique()"
   ]
  },
  {
   "cell_type": "code",
   "execution_count": 141,
   "id": "1fac1c93-4d16-41de-b7fe-53a5cbd78b34",
   "metadata": {},
   "outputs": [
    {
     "data": {
      "text/plain": [
       "array(['http://images.acmesports.sports/Smart+watch ',\n",
       "       'http://images.acmesports.sports/Perfect+Fitness+Perfect+Rip+Deck',\n",
       "       'http://images.acmesports.sports/Under+Armour+Girls%27+Toddler+Spine+Surge+Running+Shoe',\n",
       "       'http://images.acmesports.sports/Nike+Men%27s+Dri-FIT+Victory+Golf+Polo',\n",
       "       'http://images.acmesports.sports/Under+Armour+Men%27s+Compression+EV+SL+Slide',\n",
       "       'http://images.acmesports.sports/Under+Armour+Women%27s+Micro+G+Skulpt+Running+Shoe',\n",
       "       'http://images.acmesports.sports/Nike+Men%27s+Free+5.0%2B+Running+Shoe',\n",
       "       'http://images.acmesports.sports/Glove+It+Women%27s+Mod+Oval+3-Zip+Carry+All+Golf+Bag',\n",
       "       'http://images.acmesports.sports/Bridgestone+e6+Straight+Distance+NFL+San+Diego+Chargers...',\n",
       "       'http://images.acmesports.sports/Columbia+Men%27s+PFG+Anchor+Tough+T-Shirt',\n",
       "       'http://images.acmesports.sports/Titleist+Pro+V1x+Golf+Balls',\n",
       "       'http://images.acmesports.sports/Bridgestone+e6+Straight+Distance+NFL+Tennessee+Titans+Golf...',\n",
       "       'http://images.acmesports.sports/Polar+FT4+Heart+Rate+Monitor',\n",
       "       'http://images.acmesports.sports/ENO+Atlas+Hammock+Straps',\n",
       "       'http://images.acmesports.sports/adidas+Men%27s+F10+Messi+TRX+FG+Soccer+Cleat',\n",
       "       'http://images.acmesports.sports/Brooks+Women%27s+Ghost+6+Running+Shoe',\n",
       "       'http://images.acmesports.sports/Nike+Men%27s+CJ+Elite+2+TD+Football+Cleat',\n",
       "       'http://images.acmesports.sports/Diamondback+Women%27s+Serene+Classic+Comfort+Bike+2014',\n",
       "       'http://images.acmesports.sports/Industrial+consumer+electronics',\n",
       "       'http://images.acmesports.sports/Web+Camera',\n",
       "       'http://images.acmesports.sports/Dell+Laptop',\n",
       "       'http://images.acmesports.sports/SOLE+E25+Elliptical',\n",
       "       'http://images.acmesports.sports/Elevation+Training+Mask+2.0',\n",
       "       'http://images.acmesports.sports/adidas+Men%27s+Germany+Black+Crest+Away+Tee',\n",
       "       'http://images.acmesports.sports/Team+Golf+Pittsburgh+Steelers+Putter+Grip',\n",
       "       'http://images.acmesports.sports/Glove+It+Urban+Brick+Golf+Towel',\n",
       "       'http://images.acmesports.sports/Team+Golf+Texas+Longhorns+Putter+Grip',\n",
       "       'http://images.acmesports.sports/Nike+Men%27s+Deutschland+Weltmeister+Winners+Black+T-Shirt',\n",
       "       'http://images.acmesports.sports/Team+Golf+St.+Louis+Cardinals+Putter+Grip',\n",
       "       'http://images.acmesports.sports/Summer+dresses',\n",
       "       'http://images.acmesports.sports/Porcelain+crafts',\n",
       "       'http://images.acmesports.sports/Men+gala+suit',\n",
       "       'http://images.acmesports.sports/Team+Golf+Tennessee+Volunteers+Putter+Grip',\n",
       "       'http://images.acmesports.sports/Team+Golf+San+Francisco+Giants+Putter+Grip',\n",
       "       'http://images.acmesports.sports/Glove+It+Imperial+Golf+Towel',\n",
       "       'http://images.acmesports.sports/Nike+Men%27s+Comfort+2+Slide',\n",
       "       'http://images.acmesports.sports/Under+Armour+Hustle+Storm+Medium+Duffle+Bag',\n",
       "       'http://images.acmesports.sports/Under+Armour+Kids%27+Mercenary+Slide',\n",
       "       'http://images.acmesports.sports/Under+Armour+Women%27s+Ignite+PIP+VI+Slide',\n",
       "       'http://images.acmesports.sports/Nike+Men%27s+Free+TR+5.0+TB+Training+Shoe',\n",
       "       'http://images.acmesports.sports/adidas+Youth+Germany+Black%2FRed+Away+Match+Soccer+Jersey',\n",
       "       'http://images.acmesports.sports/TYR+Boys%27+Team+Digi+Jammer',\n",
       "       'http://images.acmesports.sports/Glove+It+Women%27s+Imperial+Golf+Glove',\n",
       "       'http://images.acmesports.sports/Titleist+Pro+V1x+High+Numbers+Golf+Balls',\n",
       "       'http://images.acmesports.sports/Bridgestone+e6+Straight+Distance+NFL+Carolina+Panthers+Golf...',\n",
       "       'http://images.acmesports.sports/Under+Armour+Women%27s+Ignite+Slide',\n",
       "       'http://images.acmesports.sports/Titleist+Pro+V1x+High+Numbers+Personalized+Golf+Balls',\n",
       "       'http://images.acmesports.sports/GoPro+HERO3%2B+Black+Edition+Camera',\n",
       "       'http://images.acmesports.sports/Total+Gym+1400',\n",
       "       'http://images.acmesports.sports/Children+heaters',\n",
       "       'http://images.acmesports.sports/Team+Golf+New+England+Patriots+Putter+Grip',\n",
       "       'http://images.acmesports.sports/adidas+Kids%27+F5+Messi+FG+Soccer+Cleat',\n",
       "       'http://images.acmesports.sports/Nike+Women%27s+Tempo+Shorts',\n",
       "       'http://images.acmesports.sports/Glove+It+Women%27s+Mod+Oval+Golf+Glove',\n",
       "       'http://images.acmesports.sports/Titleist+Pro+V1+High+Numbers+Personalized+Golf+Balls',\n",
       "       'http://images.acmesports.sports/Under+Armour+Men%27s+Tech+II+T-Shirt',\n",
       "       'http://images.acmesports.sports/Baby+sweater',\n",
       "       'http://images.acmesports.sports/Mio+ALPHA+Heart+Rate+Monitor%2FSport+Watch',\n",
       "       'http://images.acmesports.sports/Field+%26+Stream+Sportsman+16+Gun+Fire+Safe',\n",
       "       'http://images.acmesports.sports/Sports+Books',\n",
       "       'http://images.acmesports.sports/Diamondback+Boys%27+Insight+24+Performance+Hybrid+Bike+2014',\n",
       "       'http://images.acmesports.sports/Polar+Loop+Activity+Tracker',\n",
       "       'http://images.acmesports.sports/Garmin+Forerunner+910XT+GPS+Watch',\n",
       "       'http://images.acmesports.sports/DVDs',\n",
       "       'http://images.acmesports.sports/CDs+of+rock',\n",
       "       'http://images.acmesports.sports/Nike+Kids%27+Grade+School+KD+VI+Basketball+Shoe',\n",
       "       'http://images.acmesports.sports/Nike+Women%27s+Free+5.0+TR+FIT+PRT+4+Training+Shoe',\n",
       "       'http://images.acmesports.sports/Hirzl+Women%27s+Soffft+Flex+Golf+Glove',\n",
       "       'http://images.acmesports.sports/The+North+Face+Women%27s+Recon+Backpack',\n",
       "       'http://images.acmesports.sports/Lawn+mower',\n",
       "       'http://images.acmesports.sports/Nike+Dri-FIT+Crew+Sock+6+Pack',\n",
       "       'http://images.acmesports.sports/Nike+Women%27s+Legend+V-Neck+T-Shirt',\n",
       "       'http://images.acmesports.sports/Garmin+Approach+S4+Golf+GPS+Watch',\n",
       "       'http://images.acmesports.sports/insta-bed+Neverflat+Air+Mattress',\n",
       "       'http://images.acmesports.sports/Nike+Men%27s+Kobe+IX+Elite+Low+Basketball+Shoe',\n",
       "       'http://images.acmesports.sports/Adult+dog+supplies',\n",
       "       'http://images.acmesports.sports/First+aid+kit',\n",
       "       'http://images.acmesports.sports/Garmin+Approach+S3+Golf+GPS+Watch',\n",
       "       'http://images.acmesports.sports/Rock+music',\n",
       "       'http://images.acmesports.sports/Fighting+video+games',\n",
       "       'http://images.acmesports.sports/Fitbit+The+One+Wireless+Activity+%26+Sleep+Tracker',\n",
       "       'http://images.acmesports.sports/Stiga+Master+Series+ST3100+Competition+Indoor+Table+Tennis...',\n",
       "       'http://images.acmesports.sports/Diamondback+Girls%27+Clarity+24+Hybrid+Bike+2014',\n",
       "       'http://images.acmesports.sports/adidas+Brazuca+2014+Official+Match+Ball',\n",
       "       'http://images.acmesports.sports/GolfBuddy+VT3+GPS+Watch',\n",
       "       'http://images.acmesports.sports/Bushnell+Pro+X7+Jolt+Slope+Rangefinder',\n",
       "       'http://images.acmesports.sports/Yakima+DoubleDown+Ace+Hitch+Mount+4-Bike+Rack',\n",
       "       'http://images.acmesports.sports/Nike+Men%27s+Fingertrap+Max+Training+Shoe',\n",
       "       'http://images.acmesports.sports/Bowflex+SelectTech+1090+Dumbbells',\n",
       "       'http://images.acmesports.sports/SOLE+E35+Elliptical',\n",
       "       'http://images.acmesports.sports/Hirzl+Women%27s+Hybrid+Golf+Glove',\n",
       "       'http://images.acmesports.sports/Hirzl+Men%27s+Hybrid+Golf+Glove',\n",
       "       'http://images.acmesports.sports/TaylorMade+2014+Purelite+Stand+Bag',\n",
       "       'http://images.acmesports.sports/Bag+Boy+Beverage+Holder',\n",
       "       'http://images.acmesports.sports/Bag+Boy+M330+Push+Cart',\n",
       "       'http://images.acmesports.sports/Clicgear+8.0+Shoe+Brush',\n",
       "       'http://images.acmesports.sports/Titleist+Small+Wheeled+Travel+Cover',\n",
       "       'http://images.acmesports.sports/Clicgear+Rovic+Cooler+Bag',\n",
       "       'http://images.acmesports.sports/Titleist+Club+Glove+Travel+Cover',\n",
       "       'http://images.acmesports.sports/Ogio+Race+Golf+Shoes',\n",
       "       'http://images.acmesports.sports/LIJA+Women%27s+Argyle+Golf+Polo',\n",
       "       'http://images.acmesports.sports/LIJA+Women%27s+Eyelet+Sleeveless+Golf+Polo',\n",
       "       'http://images.acmesports.sports/LIJA+Women%27s+Button+Golf+Dress',\n",
       "       'http://images.acmesports.sports/LIJA+Women%27s+Mid-Length+Panel+Golf+Shorts',\n",
       "       'http://images.acmesports.sports/TaylorMade+Women%27s+RBZ+SL+Rescue',\n",
       "       'http://images.acmesports.sports/Cleveland+Golf+Women%27s+588+RTX+CB+Satin+Chrome+Wedge',\n",
       "       'http://images.acmesports.sports/Top+Flite+Women%27s+2014+XL+Hybrid',\n",
       "       'http://images.acmesports.sports/MDGolf+Pittsburgh+Penguins+Putter',\n",
       "       'http://images.acmesports.sports/TaylorMade+White+Smoke+IN-12+Putter',\n",
       "       'http://images.acmesports.sports/Cleveland+Golf+Collegiate+My+Custom+Wedge+588+RTX+Forged...',\n",
       "       'http://images.acmesports.sports/Merrell+Men%27s+All+Out+Flash+Trail+Running+Shoe',\n",
       "       'http://images.acmesports.sports/Merrell+Women%27s+Grassbow+Sport+Waterproof+Hiking+Shoe',\n",
       "       'http://images.acmesports.sports/Merrell+Women%27s+Siren+Mid+Waterproof+Hiking+Boot',\n",
       "       'http://images.acmesports.sports/Merrell+Women%27s+Grassbow+Sport+Hiking+Shoe',\n",
       "       'http://images.acmesports.sports/Toys ',\n",
       "       'http://images.acmesports.sports/Pelican+Sunstream+100+Kayak',\n",
       "       'http://images.acmesports.sports/Pelican+Maverick+100X+Kayak',\n",
       "       'http://images.acmesports.sports/O%27Brien+Men%27s+Neoprene+Life+Vest'],\n",
       "      dtype=object)"
      ]
     },
     "execution_count": 141,
     "metadata": {},
     "output_type": "execute_result"
    }
   ],
   "source": [
    "dfp['Image'].unique()"
   ]
  },
  {
   "cell_type": "code",
   "execution_count": 143,
   "id": "dca5211b-2fcd-40ca-b18c-4df21beb9c41",
   "metadata": {},
   "outputs": [
    {
     "data": {
      "text/plain": [
       "array(['Available'], dtype=object)"
      ]
     },
     "execution_count": 143,
     "metadata": {},
     "output_type": "execute_result"
    }
   ],
   "source": [
    "dfp['Availability'].unique()"
   ]
  },
  {
   "cell_type": "code",
   "execution_count": 145,
   "id": "3da797a8-0931-4b77-82da-c339c964580f",
   "metadata": {},
   "outputs": [],
   "source": [
    "df.drop(['Product Category Id', 'Product Name', 'Product Status', 'Product Price', 'Product Image'], axis = 1, inplace = True)"
   ]
  },
  {
   "cell_type": "code",
   "execution_count": 147,
   "id": "6ef9e11a-8441-484b-b226-d901f1e8aae1",
   "metadata": {},
   "outputs": [
    {
     "data": {
      "text/plain": [
       "0"
      ]
     },
     "execution_count": 147,
     "metadata": {},
     "output_type": "execute_result"
    }
   ],
   "source": [
    "df.duplicated().sum()"
   ]
  },
  {
   "cell_type": "code",
   "execution_count": 149,
   "id": "bc7531fb-5e9a-45ba-b9c3-ccadf732bcce",
   "metadata": {},
   "outputs": [
    {
     "data": {
      "text/html": [
       "<a href=\"Products.csv\" download=\"Products.csv\">Click here to download the CSV</a>"
      ],
      "text/plain": [
       "<IPython.core.display.HTML object>"
      ]
     },
     "execution_count": 149,
     "metadata": {},
     "output_type": "execute_result"
    }
   ],
   "source": [
    "dfp.to_csv(\"Products.csv\", index = False)\n",
    "HTML('<a href=\"Products.csv\" download=\"Products.csv\">Click here to download the CSV</a>')"
   ]
  },
  {
   "cell_type": "markdown",
   "id": "de8abee5-eb69-4b68-bcd6-f10a91a7efcb",
   "metadata": {
    "jp-MarkdownHeadingCollapsed": true
   },
   "source": [
    "### Order Table"
   ]
  },
  {
   "cell_type": "code",
   "execution_count": 152,
   "id": "8a054370-2d1e-4ab3-b6c4-b87957218747",
   "metadata": {},
   "outputs": [
    {
     "name": "stdout",
     "output_type": "stream",
     "text": [
      "<class 'pandas.core.frame.DataFrame'>\n",
      "RangeIndex: 180519 entries, 0 to 180518\n",
      "Data columns (total 34 columns):\n",
      " #   Column                         Non-Null Count   Dtype  \n",
      "---  ------                         --------------   -----  \n",
      " 0   Type                           180519 non-null  object \n",
      " 1   Days for shipping (real)       180519 non-null  int64  \n",
      " 2   Days for shipment (scheduled)  180519 non-null  int64  \n",
      " 3   Benefit per order              180519 non-null  float64\n",
      " 4   Sales per customer             180519 non-null  float64\n",
      " 5   Delivery Status                180519 non-null  object \n",
      " 6   Late_delivery_risk             180519 non-null  int64  \n",
      " 7   Category Id                    180519 non-null  int64  \n",
      " 8   Customer Id                    180519 non-null  int64  \n",
      " 9   Department Id                  180519 non-null  int64  \n",
      " 10  Latitude                       180519 non-null  float64\n",
      " 11  Longitude                      180519 non-null  float64\n",
      " 12  Market                         180519 non-null  object \n",
      " 13  Order City                     180519 non-null  object \n",
      " 14  Order Country                  180519 non-null  object \n",
      " 15  Order Customer Id              180519 non-null  int64  \n",
      " 16  order date (DateOrders)        180519 non-null  object \n",
      " 17  Order Id                       180519 non-null  int64  \n",
      " 18  Order Item Cardprod Id         180519 non-null  int64  \n",
      " 19  Order Item Discount            180519 non-null  float64\n",
      " 20  Order Item Discount Rate       180519 non-null  float64\n",
      " 21  Order Item Id                  180519 non-null  int64  \n",
      " 22  Order Item Product Price       180519 non-null  float64\n",
      " 23  Order Item Profit Ratio        180519 non-null  float64\n",
      " 24  Order Item Quantity            180519 non-null  int64  \n",
      " 25  Sales                          180519 non-null  float64\n",
      " 26  Order Item Total               180519 non-null  float64\n",
      " 27  Order Profit Per Order         180519 non-null  float64\n",
      " 28  Order Region                   180519 non-null  object \n",
      " 29  Order State                    180519 non-null  object \n",
      " 30  Order Status                   180519 non-null  object \n",
      " 31  Product Card Id                180519 non-null  int64  \n",
      " 32  shipping date (DateOrders)     180519 non-null  object \n",
      " 33  Shipping Mode                  180519 non-null  object \n",
      "dtypes: float64(11), int64(12), object(11)\n",
      "memory usage: 46.8+ MB\n"
     ]
    }
   ],
   "source": [
    "df.info()"
   ]
  },
  {
   "cell_type": "code",
   "execution_count": 154,
   "id": "4d3e660c-bafb-419b-8c7e-9959b539a80a",
   "metadata": {},
   "outputs": [
    {
     "data": {
      "text/html": [
       "<div>\n",
       "<style scoped>\n",
       "    .dataframe tbody tr th:only-of-type {\n",
       "        vertical-align: middle;\n",
       "    }\n",
       "\n",
       "    .dataframe tbody tr th {\n",
       "        vertical-align: top;\n",
       "    }\n",
       "\n",
       "    .dataframe thead th {\n",
       "        text-align: right;\n",
       "    }\n",
       "</style>\n",
       "<table border=\"1\" class=\"dataframe\">\n",
       "  <thead>\n",
       "    <tr style=\"text-align: right;\">\n",
       "      <th></th>\n",
       "      <th>Type</th>\n",
       "      <th>Days for shipping (real)</th>\n",
       "      <th>Days for shipment (scheduled)</th>\n",
       "      <th>Benefit per order</th>\n",
       "      <th>Sales per customer</th>\n",
       "      <th>Delivery Status</th>\n",
       "      <th>Late_delivery_risk</th>\n",
       "      <th>Category Id</th>\n",
       "      <th>Customer Id</th>\n",
       "      <th>Department Id</th>\n",
       "      <th>...</th>\n",
       "      <th>Order Item Quantity</th>\n",
       "      <th>Sales</th>\n",
       "      <th>Order Item Total</th>\n",
       "      <th>Order Profit Per Order</th>\n",
       "      <th>Order Region</th>\n",
       "      <th>Order State</th>\n",
       "      <th>Order Status</th>\n",
       "      <th>Product Card Id</th>\n",
       "      <th>shipping date (DateOrders)</th>\n",
       "      <th>Shipping Mode</th>\n",
       "    </tr>\n",
       "  </thead>\n",
       "  <tbody>\n",
       "    <tr>\n",
       "      <th>0</th>\n",
       "      <td>DEBIT</td>\n",
       "      <td>3</td>\n",
       "      <td>4</td>\n",
       "      <td>91.250000</td>\n",
       "      <td>314.640015</td>\n",
       "      <td>Advance shipping</td>\n",
       "      <td>0</td>\n",
       "      <td>73</td>\n",
       "      <td>20755</td>\n",
       "      <td>2</td>\n",
       "      <td>...</td>\n",
       "      <td>1</td>\n",
       "      <td>327.75</td>\n",
       "      <td>314.640015</td>\n",
       "      <td>91.250000</td>\n",
       "      <td>Southeast Asia</td>\n",
       "      <td>Java Occidental</td>\n",
       "      <td>COMPLETE</td>\n",
       "      <td>1360</td>\n",
       "      <td>2/3/2018 22:56</td>\n",
       "      <td>Standard Class</td>\n",
       "    </tr>\n",
       "    <tr>\n",
       "      <th>1</th>\n",
       "      <td>TRANSFER</td>\n",
       "      <td>5</td>\n",
       "      <td>4</td>\n",
       "      <td>-249.089996</td>\n",
       "      <td>311.359985</td>\n",
       "      <td>Late delivery</td>\n",
       "      <td>1</td>\n",
       "      <td>73</td>\n",
       "      <td>19492</td>\n",
       "      <td>2</td>\n",
       "      <td>...</td>\n",
       "      <td>1</td>\n",
       "      <td>327.75</td>\n",
       "      <td>311.359985</td>\n",
       "      <td>-249.089996</td>\n",
       "      <td>South Asia</td>\n",
       "      <td>Rajastán</td>\n",
       "      <td>PENDING</td>\n",
       "      <td>1360</td>\n",
       "      <td>1/18/2018 12:27</td>\n",
       "      <td>Standard Class</td>\n",
       "    </tr>\n",
       "    <tr>\n",
       "      <th>2</th>\n",
       "      <td>CASH</td>\n",
       "      <td>4</td>\n",
       "      <td>4</td>\n",
       "      <td>-247.779999</td>\n",
       "      <td>309.720001</td>\n",
       "      <td>Shipping on time</td>\n",
       "      <td>0</td>\n",
       "      <td>73</td>\n",
       "      <td>19491</td>\n",
       "      <td>2</td>\n",
       "      <td>...</td>\n",
       "      <td>1</td>\n",
       "      <td>327.75</td>\n",
       "      <td>309.720001</td>\n",
       "      <td>-247.779999</td>\n",
       "      <td>South Asia</td>\n",
       "      <td>Rajastán</td>\n",
       "      <td>CLOSED</td>\n",
       "      <td>1360</td>\n",
       "      <td>1/17/2018 12:06</td>\n",
       "      <td>Standard Class</td>\n",
       "    </tr>\n",
       "    <tr>\n",
       "      <th>3</th>\n",
       "      <td>DEBIT</td>\n",
       "      <td>3</td>\n",
       "      <td>4</td>\n",
       "      <td>22.860001</td>\n",
       "      <td>304.809998</td>\n",
       "      <td>Advance shipping</td>\n",
       "      <td>0</td>\n",
       "      <td>73</td>\n",
       "      <td>19490</td>\n",
       "      <td>2</td>\n",
       "      <td>...</td>\n",
       "      <td>1</td>\n",
       "      <td>327.75</td>\n",
       "      <td>304.809998</td>\n",
       "      <td>22.860001</td>\n",
       "      <td>Oceania</td>\n",
       "      <td>Queensland</td>\n",
       "      <td>COMPLETE</td>\n",
       "      <td>1360</td>\n",
       "      <td>1/16/2018 11:45</td>\n",
       "      <td>Standard Class</td>\n",
       "    </tr>\n",
       "    <tr>\n",
       "      <th>4</th>\n",
       "      <td>PAYMENT</td>\n",
       "      <td>2</td>\n",
       "      <td>4</td>\n",
       "      <td>134.210007</td>\n",
       "      <td>298.250000</td>\n",
       "      <td>Advance shipping</td>\n",
       "      <td>0</td>\n",
       "      <td>73</td>\n",
       "      <td>19489</td>\n",
       "      <td>2</td>\n",
       "      <td>...</td>\n",
       "      <td>1</td>\n",
       "      <td>327.75</td>\n",
       "      <td>298.250000</td>\n",
       "      <td>134.210007</td>\n",
       "      <td>Oceania</td>\n",
       "      <td>Queensland</td>\n",
       "      <td>PENDING_PAYMENT</td>\n",
       "      <td>1360</td>\n",
       "      <td>1/15/2018 11:24</td>\n",
       "      <td>Standard Class</td>\n",
       "    </tr>\n",
       "    <tr>\n",
       "      <th>5</th>\n",
       "      <td>TRANSFER</td>\n",
       "      <td>6</td>\n",
       "      <td>4</td>\n",
       "      <td>18.580000</td>\n",
       "      <td>294.980011</td>\n",
       "      <td>Shipping canceled</td>\n",
       "      <td>0</td>\n",
       "      <td>73</td>\n",
       "      <td>19488</td>\n",
       "      <td>2</td>\n",
       "      <td>...</td>\n",
       "      <td>1</td>\n",
       "      <td>327.75</td>\n",
       "      <td>294.980011</td>\n",
       "      <td>18.580000</td>\n",
       "      <td>Oceania</td>\n",
       "      <td>Queensland</td>\n",
       "      <td>CANCELED</td>\n",
       "      <td>1360</td>\n",
       "      <td>1/19/2018 11:03</td>\n",
       "      <td>Standard Class</td>\n",
       "    </tr>\n",
       "    <tr>\n",
       "      <th>6</th>\n",
       "      <td>DEBIT</td>\n",
       "      <td>2</td>\n",
       "      <td>1</td>\n",
       "      <td>95.180000</td>\n",
       "      <td>288.420013</td>\n",
       "      <td>Late delivery</td>\n",
       "      <td>1</td>\n",
       "      <td>73</td>\n",
       "      <td>19487</td>\n",
       "      <td>2</td>\n",
       "      <td>...</td>\n",
       "      <td>1</td>\n",
       "      <td>327.75</td>\n",
       "      <td>288.420013</td>\n",
       "      <td>95.180000</td>\n",
       "      <td>Eastern Asia</td>\n",
       "      <td>Guangdong</td>\n",
       "      <td>COMPLETE</td>\n",
       "      <td>1360</td>\n",
       "      <td>1/15/2018 10:42</td>\n",
       "      <td>First Class</td>\n",
       "    </tr>\n",
       "    <tr>\n",
       "      <th>7</th>\n",
       "      <td>TRANSFER</td>\n",
       "      <td>2</td>\n",
       "      <td>1</td>\n",
       "      <td>68.430000</td>\n",
       "      <td>285.140015</td>\n",
       "      <td>Late delivery</td>\n",
       "      <td>1</td>\n",
       "      <td>73</td>\n",
       "      <td>19486</td>\n",
       "      <td>2</td>\n",
       "      <td>...</td>\n",
       "      <td>1</td>\n",
       "      <td>327.75</td>\n",
       "      <td>285.140015</td>\n",
       "      <td>68.430000</td>\n",
       "      <td>Eastern Asia</td>\n",
       "      <td>Guangdong</td>\n",
       "      <td>PROCESSING</td>\n",
       "      <td>1360</td>\n",
       "      <td>1/15/2018 10:21</td>\n",
       "      <td>First Class</td>\n",
       "    </tr>\n",
       "    <tr>\n",
       "      <th>8</th>\n",
       "      <td>CASH</td>\n",
       "      <td>3</td>\n",
       "      <td>2</td>\n",
       "      <td>133.720001</td>\n",
       "      <td>278.589996</td>\n",
       "      <td>Late delivery</td>\n",
       "      <td>1</td>\n",
       "      <td>73</td>\n",
       "      <td>19485</td>\n",
       "      <td>2</td>\n",
       "      <td>...</td>\n",
       "      <td>1</td>\n",
       "      <td>327.75</td>\n",
       "      <td>278.589996</td>\n",
       "      <td>133.720001</td>\n",
       "      <td>Eastern Asia</td>\n",
       "      <td>Guangdong</td>\n",
       "      <td>CLOSED</td>\n",
       "      <td>1360</td>\n",
       "      <td>1/16/2018 10:00</td>\n",
       "      <td>Second Class</td>\n",
       "    </tr>\n",
       "    <tr>\n",
       "      <th>9</th>\n",
       "      <td>CASH</td>\n",
       "      <td>2</td>\n",
       "      <td>1</td>\n",
       "      <td>132.149994</td>\n",
       "      <td>275.309998</td>\n",
       "      <td>Late delivery</td>\n",
       "      <td>1</td>\n",
       "      <td>73</td>\n",
       "      <td>19484</td>\n",
       "      <td>2</td>\n",
       "      <td>...</td>\n",
       "      <td>1</td>\n",
       "      <td>327.75</td>\n",
       "      <td>275.309998</td>\n",
       "      <td>132.149994</td>\n",
       "      <td>Eastern Asia</td>\n",
       "      <td>Guangdong</td>\n",
       "      <td>CLOSED</td>\n",
       "      <td>1360</td>\n",
       "      <td>1/15/2018 9:39</td>\n",
       "      <td>First Class</td>\n",
       "    </tr>\n",
       "  </tbody>\n",
       "</table>\n",
       "<p>10 rows × 34 columns</p>\n",
       "</div>"
      ],
      "text/plain": [
       "       Type  Days for shipping (real)  Days for shipment (scheduled)  \\\n",
       "0     DEBIT                         3                              4   \n",
       "1  TRANSFER                         5                              4   \n",
       "2      CASH                         4                              4   \n",
       "3     DEBIT                         3                              4   \n",
       "4   PAYMENT                         2                              4   \n",
       "5  TRANSFER                         6                              4   \n",
       "6     DEBIT                         2                              1   \n",
       "7  TRANSFER                         2                              1   \n",
       "8      CASH                         3                              2   \n",
       "9      CASH                         2                              1   \n",
       "\n",
       "   Benefit per order  Sales per customer    Delivery Status  \\\n",
       "0          91.250000          314.640015   Advance shipping   \n",
       "1        -249.089996          311.359985      Late delivery   \n",
       "2        -247.779999          309.720001   Shipping on time   \n",
       "3          22.860001          304.809998   Advance shipping   \n",
       "4         134.210007          298.250000   Advance shipping   \n",
       "5          18.580000          294.980011  Shipping canceled   \n",
       "6          95.180000          288.420013      Late delivery   \n",
       "7          68.430000          285.140015      Late delivery   \n",
       "8         133.720001          278.589996      Late delivery   \n",
       "9         132.149994          275.309998      Late delivery   \n",
       "\n",
       "   Late_delivery_risk  Category Id  Customer Id  Department Id  ...  \\\n",
       "0                   0           73        20755              2  ...   \n",
       "1                   1           73        19492              2  ...   \n",
       "2                   0           73        19491              2  ...   \n",
       "3                   0           73        19490              2  ...   \n",
       "4                   0           73        19489              2  ...   \n",
       "5                   0           73        19488              2  ...   \n",
       "6                   1           73        19487              2  ...   \n",
       "7                   1           73        19486              2  ...   \n",
       "8                   1           73        19485              2  ...   \n",
       "9                   1           73        19484              2  ...   \n",
       "\n",
       "   Order Item Quantity   Sales Order Item Total Order Profit Per Order  \\\n",
       "0                    1  327.75       314.640015              91.250000   \n",
       "1                    1  327.75       311.359985            -249.089996   \n",
       "2                    1  327.75       309.720001            -247.779999   \n",
       "3                    1  327.75       304.809998              22.860001   \n",
       "4                    1  327.75       298.250000             134.210007   \n",
       "5                    1  327.75       294.980011              18.580000   \n",
       "6                    1  327.75       288.420013              95.180000   \n",
       "7                    1  327.75       285.140015              68.430000   \n",
       "8                    1  327.75       278.589996             133.720001   \n",
       "9                    1  327.75       275.309998             132.149994   \n",
       "\n",
       "     Order Region      Order State     Order Status  Product Card Id  \\\n",
       "0  Southeast Asia  Java Occidental         COMPLETE             1360   \n",
       "1      South Asia         Rajastán          PENDING             1360   \n",
       "2      South Asia         Rajastán           CLOSED             1360   \n",
       "3         Oceania       Queensland         COMPLETE             1360   \n",
       "4         Oceania       Queensland  PENDING_PAYMENT             1360   \n",
       "5         Oceania       Queensland         CANCELED             1360   \n",
       "6    Eastern Asia        Guangdong         COMPLETE             1360   \n",
       "7    Eastern Asia        Guangdong       PROCESSING             1360   \n",
       "8    Eastern Asia        Guangdong           CLOSED             1360   \n",
       "9    Eastern Asia        Guangdong           CLOSED             1360   \n",
       "\n",
       "   shipping date (DateOrders)   Shipping Mode  \n",
       "0              2/3/2018 22:56  Standard Class  \n",
       "1             1/18/2018 12:27  Standard Class  \n",
       "2             1/17/2018 12:06  Standard Class  \n",
       "3             1/16/2018 11:45  Standard Class  \n",
       "4             1/15/2018 11:24  Standard Class  \n",
       "5             1/19/2018 11:03  Standard Class  \n",
       "6             1/15/2018 10:42     First Class  \n",
       "7             1/15/2018 10:21     First Class  \n",
       "8             1/16/2018 10:00    Second Class  \n",
       "9              1/15/2018 9:39     First Class  \n",
       "\n",
       "[10 rows x 34 columns]"
      ]
     },
     "execution_count": 154,
     "metadata": {},
     "output_type": "execute_result"
    }
   ],
   "source": [
    "df.head(10)"
   ]
  },
  {
   "cell_type": "code",
   "execution_count": 156,
   "id": "0a3d1267-4ef2-4cf1-9b3e-b6dd7970319d",
   "metadata": {},
   "outputs": [
    {
     "data": {
      "text/plain": [
       "array(['DEBIT', 'TRANSFER', 'CASH', 'PAYMENT'], dtype=object)"
      ]
     },
     "execution_count": 156,
     "metadata": {},
     "output_type": "execute_result"
    }
   ],
   "source": [
    "df['Type'].unique()"
   ]
  },
  {
   "cell_type": "code",
   "execution_count": 158,
   "id": "38a263be-c67b-405e-9cdf-59db82773942",
   "metadata": {},
   "outputs": [],
   "source": [
    "df = df.rename(columns={'Type': 'Transaction Type'})\n",
    "df['Transaction Type'] = df['Transaction Type'].replace('DEBIT', 'Debit')\n",
    "df['Transaction Type'] = df['Transaction Type'].replace('TRANSFER', 'Transfer')\n",
    "df['Transaction Type'] = df['Transaction Type'].replace('CASH', 'Cash')\n",
    "df['Transaction Type'] = df['Transaction Type'].replace('PAYMENT', 'Payment')"
   ]
  },
  {
   "cell_type": "code",
   "execution_count": 160,
   "id": "8c762e6b-1033-4a9c-aa16-04d9c57c68f1",
   "metadata": {},
   "outputs": [],
   "source": [
    "df = df.rename(columns={'Days for shipping (real)': 'Days of Shipping', 'Days for shipment (scheduled)': 'Scheduled Days of Shipping'})"
   ]
  },
  {
   "cell_type": "code",
   "execution_count": 162,
   "id": "499bb7b5-b61b-46ef-8c72-f86eee386db4",
   "metadata": {},
   "outputs": [],
   "source": [
    "df.drop(['Benefit per order'], axis = 1, inplace = True)"
   ]
  },
  {
   "cell_type": "code",
   "execution_count": 164,
   "id": "883e6a3e-00bd-498a-a540-81d6e17687e6",
   "metadata": {},
   "outputs": [],
   "source": [
    "df.drop(['Sales per customer'], axis = 1, inplace = True)"
   ]
  },
  {
   "cell_type": "code",
   "execution_count": 166,
   "id": "fc22719d-4dd0-4ccf-ba16-2cb2ecba04a7",
   "metadata": {},
   "outputs": [],
   "source": [
    "df.drop(['Order Item Product Price'], axis = 1, inplace = True)"
   ]
  },
  {
   "cell_type": "code",
   "execution_count": 168,
   "id": "aa463936-b897-45b1-ad59-e194fdbf7b91",
   "metadata": {},
   "outputs": [],
   "source": [
    "df = df.rename(columns={'Late_delivery_risk': 'Late Delivery Risk', 'Latitude': 'Store Latitude', 'Longitude': 'Store Longitude', 'Market': 'Order Continent', 'order date (DateOrders)': 'Order Date', 'Order Item Discount': 'Discount', 'Order Item Discount Rate': 'Discount Rate', 'Order Item Profit Ratio': 'Profit Ratio', 'Order Item Quantity': 'Quantity', 'Sales': 'Sales before Discount', 'Order Item Total': 'Sales after Discount', 'Order Profit Per Order': 'Profit', 'shipping date (DateOrders)': 'Shipping Date'})"
   ]
  },
  {
   "cell_type": "code",
   "execution_count": 170,
   "id": "371e0a07-f08e-4950-95f8-06ce0c12878a",
   "metadata": {},
   "outputs": [],
   "source": [
    "df = df.rename(columns={'Product Card Id': 'Product Id'})"
   ]
  },
  {
   "cell_type": "code",
   "execution_count": 172,
   "id": "6f1d20f9-f2e0-454b-83d5-279456d4f9f9",
   "metadata": {},
   "outputs": [
    {
     "name": "stdout",
     "output_type": "stream",
     "text": [
      "<class 'pandas.core.frame.DataFrame'>\n",
      "RangeIndex: 180519 entries, 0 to 180518\n",
      "Data columns (total 31 columns):\n",
      " #   Column                      Non-Null Count   Dtype  \n",
      "---  ------                      --------------   -----  \n",
      " 0   Transaction Type            180519 non-null  object \n",
      " 1   Days of Shipping            180519 non-null  int64  \n",
      " 2   Scheduled Days of Shipping  180519 non-null  int64  \n",
      " 3   Delivery Status             180519 non-null  object \n",
      " 4   Late Delivery Risk          180519 non-null  int64  \n",
      " 5   Category Id                 180519 non-null  int64  \n",
      " 6   Customer Id                 180519 non-null  int64  \n",
      " 7   Department Id               180519 non-null  int64  \n",
      " 8   Store Latitude              180519 non-null  float64\n",
      " 9   Store Longitude             180519 non-null  float64\n",
      " 10  Order Continent             180519 non-null  object \n",
      " 11  Order City                  180519 non-null  object \n",
      " 12  Order Country               180519 non-null  object \n",
      " 13  Order Customer Id           180519 non-null  int64  \n",
      " 14  Order Date                  180519 non-null  object \n",
      " 15  Order Id                    180519 non-null  int64  \n",
      " 16  Order Item Cardprod Id      180519 non-null  int64  \n",
      " 17  Discount                    180519 non-null  float64\n",
      " 18  Discount Rate               180519 non-null  float64\n",
      " 19  Order Item Id               180519 non-null  int64  \n",
      " 20  Profit Ratio                180519 non-null  float64\n",
      " 21  Quantity                    180519 non-null  int64  \n",
      " 22  Sales before Discount       180519 non-null  float64\n",
      " 23  Sales after Discount        180519 non-null  float64\n",
      " 24  Profit                      180519 non-null  float64\n",
      " 25  Order Region                180519 non-null  object \n",
      " 26  Order State                 180519 non-null  object \n",
      " 27  Order Status                180519 non-null  object \n",
      " 28  Product Id                  180519 non-null  int64  \n",
      " 29  Shipping Date               180519 non-null  object \n",
      " 30  Shipping Mode               180519 non-null  object \n",
      "dtypes: float64(8), int64(12), object(11)\n",
      "memory usage: 42.7+ MB\n"
     ]
    }
   ],
   "source": [
    "df.info()"
   ]
  },
  {
   "cell_type": "code",
   "execution_count": 174,
   "id": "22ae0bba-3d29-4309-9115-158c06ea2969",
   "metadata": {},
   "outputs": [
    {
     "data": {
      "text/plain": [
       "0"
      ]
     },
     "execution_count": 174,
     "metadata": {},
     "output_type": "execute_result"
    }
   ],
   "source": [
    "df.duplicated().sum()"
   ]
  },
  {
   "cell_type": "code",
   "execution_count": 176,
   "id": "b3880174-3450-4ac8-b87c-02dc067dfad1",
   "metadata": {},
   "outputs": [],
   "source": [
    "df.drop(['Order Customer Id'], axis = 1, inplace = True)"
   ]
  },
  {
   "cell_type": "code",
   "execution_count": 178,
   "id": "3e68fd48-cd87-4b4f-b901-77fd872d53f7",
   "metadata": {},
   "outputs": [
    {
     "data": {
      "text/plain": [
       "0"
      ]
     },
     "execution_count": 178,
     "metadata": {},
     "output_type": "execute_result"
    }
   ],
   "source": [
    "df.duplicated().sum()"
   ]
  },
  {
   "cell_type": "code",
   "execution_count": 180,
   "id": "d00b12ca-1031-4167-881b-9a48abdb9eae",
   "metadata": {},
   "outputs": [],
   "source": [
    "df.drop(['Order Item Cardprod Id'], axis = 1, inplace = True)"
   ]
  },
  {
   "cell_type": "code",
   "execution_count": 182,
   "id": "6ccc2a99-4554-4ceb-9bc7-4f0e71fa3f90",
   "metadata": {},
   "outputs": [
    {
     "data": {
      "text/plain": [
       "0"
      ]
     },
     "execution_count": 182,
     "metadata": {},
     "output_type": "execute_result"
    }
   ],
   "source": [
    "df.duplicated().sum()"
   ]
  },
  {
   "cell_type": "code",
   "execution_count": 184,
   "id": "eab72dfc-c1b7-4daf-8ef1-86c21508b947",
   "metadata": {},
   "outputs": [],
   "source": [
    "df.drop(['Order Item Id'], axis = 1, inplace = True)"
   ]
  },
  {
   "cell_type": "code",
   "execution_count": 186,
   "id": "3c9bca61-04d6-43f0-9e6f-b9dbd42244c3",
   "metadata": {},
   "outputs": [
    {
     "data": {
      "text/plain": [
       "0"
      ]
     },
     "execution_count": 186,
     "metadata": {},
     "output_type": "execute_result"
    }
   ],
   "source": [
    "df.duplicated().sum()"
   ]
  },
  {
   "cell_type": "code",
   "execution_count": 188,
   "id": "b77a99f5-1804-4387-9f36-5837224799d9",
   "metadata": {},
   "outputs": [
    {
     "name": "stdout",
     "output_type": "stream",
     "text": [
      "<class 'pandas.core.frame.DataFrame'>\n",
      "RangeIndex: 180519 entries, 0 to 180518\n",
      "Data columns (total 28 columns):\n",
      " #   Column                      Non-Null Count   Dtype  \n",
      "---  ------                      --------------   -----  \n",
      " 0   Transaction Type            180519 non-null  object \n",
      " 1   Days of Shipping            180519 non-null  int64  \n",
      " 2   Scheduled Days of Shipping  180519 non-null  int64  \n",
      " 3   Delivery Status             180519 non-null  object \n",
      " 4   Late Delivery Risk          180519 non-null  int64  \n",
      " 5   Category Id                 180519 non-null  int64  \n",
      " 6   Customer Id                 180519 non-null  int64  \n",
      " 7   Department Id               180519 non-null  int64  \n",
      " 8   Store Latitude              180519 non-null  float64\n",
      " 9   Store Longitude             180519 non-null  float64\n",
      " 10  Order Continent             180519 non-null  object \n",
      " 11  Order City                  180519 non-null  object \n",
      " 12  Order Country               180519 non-null  object \n",
      " 13  Order Date                  180519 non-null  object \n",
      " 14  Order Id                    180519 non-null  int64  \n",
      " 15  Discount                    180519 non-null  float64\n",
      " 16  Discount Rate               180519 non-null  float64\n",
      " 17  Profit Ratio                180519 non-null  float64\n",
      " 18  Quantity                    180519 non-null  int64  \n",
      " 19  Sales before Discount       180519 non-null  float64\n",
      " 20  Sales after Discount        180519 non-null  float64\n",
      " 21  Profit                      180519 non-null  float64\n",
      " 22  Order Region                180519 non-null  object \n",
      " 23  Order State                 180519 non-null  object \n",
      " 24  Order Status                180519 non-null  object \n",
      " 25  Product Id                  180519 non-null  int64  \n",
      " 26  Shipping Date               180519 non-null  object \n",
      " 27  Shipping Mode               180519 non-null  object \n",
      "dtypes: float64(8), int64(9), object(11)\n",
      "memory usage: 38.6+ MB\n"
     ]
    }
   ],
   "source": [
    "df.info()"
   ]
  },
  {
   "cell_type": "code",
   "execution_count": 190,
   "id": "bd28c183-71dd-4a4a-bb33-d559fdfee118",
   "metadata": {},
   "outputs": [
    {
     "data": {
      "text/html": [
       "<div>\n",
       "<style scoped>\n",
       "    .dataframe tbody tr th:only-of-type {\n",
       "        vertical-align: middle;\n",
       "    }\n",
       "\n",
       "    .dataframe tbody tr th {\n",
       "        vertical-align: top;\n",
       "    }\n",
       "\n",
       "    .dataframe thead th {\n",
       "        text-align: right;\n",
       "    }\n",
       "</style>\n",
       "<table border=\"1\" class=\"dataframe\">\n",
       "  <thead>\n",
       "    <tr style=\"text-align: right;\">\n",
       "      <th></th>\n",
       "      <th>Transaction Type</th>\n",
       "      <th>Days of Shipping</th>\n",
       "      <th>Scheduled Days of Shipping</th>\n",
       "      <th>Delivery Status</th>\n",
       "      <th>Late Delivery Risk</th>\n",
       "      <th>Category Id</th>\n",
       "      <th>Customer Id</th>\n",
       "      <th>Department Id</th>\n",
       "      <th>Store Latitude</th>\n",
       "      <th>Store Longitude</th>\n",
       "      <th>...</th>\n",
       "      <th>Quantity</th>\n",
       "      <th>Sales before Discount</th>\n",
       "      <th>Sales after Discount</th>\n",
       "      <th>Profit</th>\n",
       "      <th>Order Region</th>\n",
       "      <th>Order State</th>\n",
       "      <th>Order Status</th>\n",
       "      <th>Product Id</th>\n",
       "      <th>Shipping Date</th>\n",
       "      <th>Shipping Mode</th>\n",
       "    </tr>\n",
       "  </thead>\n",
       "  <tbody>\n",
       "    <tr>\n",
       "      <th>0</th>\n",
       "      <td>Debit</td>\n",
       "      <td>3</td>\n",
       "      <td>4</td>\n",
       "      <td>Advance shipping</td>\n",
       "      <td>0</td>\n",
       "      <td>73</td>\n",
       "      <td>20755</td>\n",
       "      <td>2</td>\n",
       "      <td>18.251453</td>\n",
       "      <td>-66.037056</td>\n",
       "      <td>...</td>\n",
       "      <td>1</td>\n",
       "      <td>327.75</td>\n",
       "      <td>314.640015</td>\n",
       "      <td>91.250000</td>\n",
       "      <td>Southeast Asia</td>\n",
       "      <td>Java Occidental</td>\n",
       "      <td>COMPLETE</td>\n",
       "      <td>1360</td>\n",
       "      <td>2/3/2018 22:56</td>\n",
       "      <td>Standard Class</td>\n",
       "    </tr>\n",
       "    <tr>\n",
       "      <th>1</th>\n",
       "      <td>Transfer</td>\n",
       "      <td>5</td>\n",
       "      <td>4</td>\n",
       "      <td>Late delivery</td>\n",
       "      <td>1</td>\n",
       "      <td>73</td>\n",
       "      <td>19492</td>\n",
       "      <td>2</td>\n",
       "      <td>18.279451</td>\n",
       "      <td>-66.037064</td>\n",
       "      <td>...</td>\n",
       "      <td>1</td>\n",
       "      <td>327.75</td>\n",
       "      <td>311.359985</td>\n",
       "      <td>-249.089996</td>\n",
       "      <td>South Asia</td>\n",
       "      <td>Rajastán</td>\n",
       "      <td>PENDING</td>\n",
       "      <td>1360</td>\n",
       "      <td>1/18/2018 12:27</td>\n",
       "      <td>Standard Class</td>\n",
       "    </tr>\n",
       "    <tr>\n",
       "      <th>2</th>\n",
       "      <td>Cash</td>\n",
       "      <td>4</td>\n",
       "      <td>4</td>\n",
       "      <td>Shipping on time</td>\n",
       "      <td>0</td>\n",
       "      <td>73</td>\n",
       "      <td>19491</td>\n",
       "      <td>2</td>\n",
       "      <td>37.292233</td>\n",
       "      <td>-121.881279</td>\n",
       "      <td>...</td>\n",
       "      <td>1</td>\n",
       "      <td>327.75</td>\n",
       "      <td>309.720001</td>\n",
       "      <td>-247.779999</td>\n",
       "      <td>South Asia</td>\n",
       "      <td>Rajastán</td>\n",
       "      <td>CLOSED</td>\n",
       "      <td>1360</td>\n",
       "      <td>1/17/2018 12:06</td>\n",
       "      <td>Standard Class</td>\n",
       "    </tr>\n",
       "    <tr>\n",
       "      <th>3</th>\n",
       "      <td>Debit</td>\n",
       "      <td>3</td>\n",
       "      <td>4</td>\n",
       "      <td>Advance shipping</td>\n",
       "      <td>0</td>\n",
       "      <td>73</td>\n",
       "      <td>19490</td>\n",
       "      <td>2</td>\n",
       "      <td>34.125946</td>\n",
       "      <td>-118.291016</td>\n",
       "      <td>...</td>\n",
       "      <td>1</td>\n",
       "      <td>327.75</td>\n",
       "      <td>304.809998</td>\n",
       "      <td>22.860001</td>\n",
       "      <td>Oceania</td>\n",
       "      <td>Queensland</td>\n",
       "      <td>COMPLETE</td>\n",
       "      <td>1360</td>\n",
       "      <td>1/16/2018 11:45</td>\n",
       "      <td>Standard Class</td>\n",
       "    </tr>\n",
       "    <tr>\n",
       "      <th>4</th>\n",
       "      <td>Payment</td>\n",
       "      <td>2</td>\n",
       "      <td>4</td>\n",
       "      <td>Advance shipping</td>\n",
       "      <td>0</td>\n",
       "      <td>73</td>\n",
       "      <td>19489</td>\n",
       "      <td>2</td>\n",
       "      <td>18.253769</td>\n",
       "      <td>-66.037048</td>\n",
       "      <td>...</td>\n",
       "      <td>1</td>\n",
       "      <td>327.75</td>\n",
       "      <td>298.250000</td>\n",
       "      <td>134.210007</td>\n",
       "      <td>Oceania</td>\n",
       "      <td>Queensland</td>\n",
       "      <td>PENDING_PAYMENT</td>\n",
       "      <td>1360</td>\n",
       "      <td>1/15/2018 11:24</td>\n",
       "      <td>Standard Class</td>\n",
       "    </tr>\n",
       "  </tbody>\n",
       "</table>\n",
       "<p>5 rows × 28 columns</p>\n",
       "</div>"
      ],
      "text/plain": [
       "  Transaction Type  Days of Shipping  Scheduled Days of Shipping  \\\n",
       "0            Debit                 3                           4   \n",
       "1         Transfer                 5                           4   \n",
       "2             Cash                 4                           4   \n",
       "3            Debit                 3                           4   \n",
       "4          Payment                 2                           4   \n",
       "\n",
       "    Delivery Status  Late Delivery Risk  Category Id  Customer Id  \\\n",
       "0  Advance shipping                   0           73        20755   \n",
       "1     Late delivery                   1           73        19492   \n",
       "2  Shipping on time                   0           73        19491   \n",
       "3  Advance shipping                   0           73        19490   \n",
       "4  Advance shipping                   0           73        19489   \n",
       "\n",
       "   Department Id  Store Latitude  Store Longitude  ... Quantity  \\\n",
       "0              2       18.251453       -66.037056  ...        1   \n",
       "1              2       18.279451       -66.037064  ...        1   \n",
       "2              2       37.292233      -121.881279  ...        1   \n",
       "3              2       34.125946      -118.291016  ...        1   \n",
       "4              2       18.253769       -66.037048  ...        1   \n",
       "\n",
       "  Sales before Discount Sales after Discount      Profit    Order Region  \\\n",
       "0                327.75           314.640015   91.250000  Southeast Asia   \n",
       "1                327.75           311.359985 -249.089996      South Asia   \n",
       "2                327.75           309.720001 -247.779999      South Asia   \n",
       "3                327.75           304.809998   22.860001         Oceania   \n",
       "4                327.75           298.250000  134.210007         Oceania   \n",
       "\n",
       "       Order State     Order Status  Product Id    Shipping Date  \\\n",
       "0  Java Occidental         COMPLETE        1360   2/3/2018 22:56   \n",
       "1         Rajastán          PENDING        1360  1/18/2018 12:27   \n",
       "2         Rajastán           CLOSED        1360  1/17/2018 12:06   \n",
       "3       Queensland         COMPLETE        1360  1/16/2018 11:45   \n",
       "4       Queensland  PENDING_PAYMENT        1360  1/15/2018 11:24   \n",
       "\n",
       "    Shipping Mode  \n",
       "0  Standard Class  \n",
       "1  Standard Class  \n",
       "2  Standard Class  \n",
       "3  Standard Class  \n",
       "4  Standard Class  \n",
       "\n",
       "[5 rows x 28 columns]"
      ]
     },
     "execution_count": 190,
     "metadata": {},
     "output_type": "execute_result"
    }
   ],
   "source": [
    "df.head()"
   ]
  },
  {
   "cell_type": "code",
   "execution_count": 192,
   "id": "dbd75ac3-ad1e-4832-931c-96089aa34b2a",
   "metadata": {},
   "outputs": [],
   "source": [
    "df['Late Delivery Risk'] = df['Late Delivery Risk'].replace(0, 'Not Late')\n",
    "df['Late Delivery Risk'] = df['Late Delivery Risk'].replace(1, 'Late')"
   ]
  },
  {
   "cell_type": "code",
   "execution_count": 194,
   "id": "691bc4d5-6542-4310-9eb4-a86d29acadfb",
   "metadata": {},
   "outputs": [
    {
     "data": {
      "text/plain": [
       "array(['COMPLETE', 'PENDING', 'CLOSED', 'PENDING_PAYMENT', 'CANCELED',\n",
       "       'PROCESSING', 'SUSPECTED_FRAUD', 'ON_HOLD', 'PAYMENT_REVIEW'],\n",
       "      dtype=object)"
      ]
     },
     "execution_count": 194,
     "metadata": {},
     "output_type": "execute_result"
    }
   ],
   "source": [
    "df['Order Status'].unique()"
   ]
  },
  {
   "cell_type": "code",
   "execution_count": 196,
   "id": "47be7dda-0118-4c18-8551-1ac5af0f995c",
   "metadata": {},
   "outputs": [],
   "source": [
    "df['Order Status'] = df['Order Status'].replace('COMPLETE', 'Complete')\n",
    "df['Order Status'] = df['Order Status'].replace('PENDING', 'Pending')\n",
    "df['Order Status'] = df['Order Status'].replace('CLOSED', 'Closed')\n",
    "df['Order Status'] = df['Order Status'].replace('PENDING_PAYMENT', 'Pending Payment')\n",
    "df['Order Status'] = df['Order Status'].replace('CANCELED', 'Canceled')\n",
    "df['Order Status'] = df['Order Status'].replace('PROCESSING', 'Processing')\n",
    "df['Order Status'] = df['Order Status'].replace('SUSPECTED_FRAUD', 'Suspected Fraud')\n",
    "df['Order Status'] = df['Order Status'].replace('ON_HOLD', 'On Hold')\n",
    "df['Order Status'] = df['Order Status'].replace('PAYMENT_REVIEW', 'Payment Review')"
   ]
  },
  {
   "cell_type": "code",
   "execution_count": 198,
   "id": "ceefebbd-9445-47a8-9954-2c90982bcc1e",
   "metadata": {},
   "outputs": [
    {
     "data": {
      "text/plain": [
       "array(['Complete', 'Pending', 'Closed', 'Pending Payment', 'Canceled',\n",
       "       'Processing', 'Suspected Fraud', 'On Hold', 'Payment Review'],\n",
       "      dtype=object)"
      ]
     },
     "execution_count": 198,
     "metadata": {},
     "output_type": "execute_result"
    }
   ],
   "source": [
    "df['Order Status'].unique()"
   ]
  },
  {
   "cell_type": "code",
   "execution_count": 200,
   "id": "638a817b-f16a-408d-89b0-c052429b1e5e",
   "metadata": {},
   "outputs": [
    {
     "name": "stdout",
     "output_type": "stream",
     "text": [
      "<class 'pandas.core.frame.DataFrame'>\n",
      "RangeIndex: 180519 entries, 0 to 180518\n",
      "Data columns (total 28 columns):\n",
      " #   Column                      Non-Null Count   Dtype  \n",
      "---  ------                      --------------   -----  \n",
      " 0   Transaction Type            180519 non-null  object \n",
      " 1   Days of Shipping            180519 non-null  int64  \n",
      " 2   Scheduled Days of Shipping  180519 non-null  int64  \n",
      " 3   Delivery Status             180519 non-null  object \n",
      " 4   Late Delivery Risk          180519 non-null  object \n",
      " 5   Category Id                 180519 non-null  int64  \n",
      " 6   Customer Id                 180519 non-null  int64  \n",
      " 7   Department Id               180519 non-null  int64  \n",
      " 8   Store Latitude              180519 non-null  float64\n",
      " 9   Store Longitude             180519 non-null  float64\n",
      " 10  Order Continent             180519 non-null  object \n",
      " 11  Order City                  180519 non-null  object \n",
      " 12  Order Country               180519 non-null  object \n",
      " 13  Order Date                  180519 non-null  object \n",
      " 14  Order Id                    180519 non-null  int64  \n",
      " 15  Discount                    180519 non-null  float64\n",
      " 16  Discount Rate               180519 non-null  float64\n",
      " 17  Profit Ratio                180519 non-null  float64\n",
      " 18  Quantity                    180519 non-null  int64  \n",
      " 19  Sales before Discount       180519 non-null  float64\n",
      " 20  Sales after Discount        180519 non-null  float64\n",
      " 21  Profit                      180519 non-null  float64\n",
      " 22  Order Region                180519 non-null  object \n",
      " 23  Order State                 180519 non-null  object \n",
      " 24  Order Status                180519 non-null  object \n",
      " 25  Product Id                  180519 non-null  int64  \n",
      " 26  Shipping Date               180519 non-null  object \n",
      " 27  Shipping Mode               180519 non-null  object \n",
      "dtypes: float64(8), int64(8), object(12)\n",
      "memory usage: 38.6+ MB\n"
     ]
    }
   ],
   "source": [
    "df.info()"
   ]
  },
  {
   "cell_type": "code",
   "execution_count": 202,
   "id": "5437bbd7-60d4-4d97-85e3-98a5c84b3427",
   "metadata": {},
   "outputs": [
    {
     "data": {
      "text/html": [
       "<div>\n",
       "<style scoped>\n",
       "    .dataframe tbody tr th:only-of-type {\n",
       "        vertical-align: middle;\n",
       "    }\n",
       "\n",
       "    .dataframe tbody tr th {\n",
       "        vertical-align: top;\n",
       "    }\n",
       "\n",
       "    .dataframe thead th {\n",
       "        text-align: right;\n",
       "    }\n",
       "</style>\n",
       "<table border=\"1\" class=\"dataframe\">\n",
       "  <thead>\n",
       "    <tr style=\"text-align: right;\">\n",
       "      <th></th>\n",
       "      <th>Transaction Type</th>\n",
       "      <th>Days of Shipping</th>\n",
       "      <th>Scheduled Days of Shipping</th>\n",
       "      <th>Delivery Status</th>\n",
       "      <th>Late Delivery Risk</th>\n",
       "      <th>Category Id</th>\n",
       "      <th>Customer Id</th>\n",
       "      <th>Department Id</th>\n",
       "      <th>Store Latitude</th>\n",
       "      <th>Store Longitude</th>\n",
       "      <th>...</th>\n",
       "      <th>Quantity</th>\n",
       "      <th>Sales before Discount</th>\n",
       "      <th>Sales after Discount</th>\n",
       "      <th>Profit</th>\n",
       "      <th>Order Region</th>\n",
       "      <th>Order State</th>\n",
       "      <th>Order Status</th>\n",
       "      <th>Product Id</th>\n",
       "      <th>Shipping Date</th>\n",
       "      <th>Shipping Mode</th>\n",
       "    </tr>\n",
       "  </thead>\n",
       "  <tbody>\n",
       "    <tr>\n",
       "      <th>0</th>\n",
       "      <td>Debit</td>\n",
       "      <td>3</td>\n",
       "      <td>4</td>\n",
       "      <td>Advance shipping</td>\n",
       "      <td>Not Late</td>\n",
       "      <td>73</td>\n",
       "      <td>20755</td>\n",
       "      <td>2</td>\n",
       "      <td>18.251453</td>\n",
       "      <td>-66.037056</td>\n",
       "      <td>...</td>\n",
       "      <td>1</td>\n",
       "      <td>327.75</td>\n",
       "      <td>314.640015</td>\n",
       "      <td>91.250000</td>\n",
       "      <td>Southeast Asia</td>\n",
       "      <td>Java Occidental</td>\n",
       "      <td>Complete</td>\n",
       "      <td>1360</td>\n",
       "      <td>2/3/2018 22:56</td>\n",
       "      <td>Standard Class</td>\n",
       "    </tr>\n",
       "    <tr>\n",
       "      <th>1</th>\n",
       "      <td>Transfer</td>\n",
       "      <td>5</td>\n",
       "      <td>4</td>\n",
       "      <td>Late delivery</td>\n",
       "      <td>Late</td>\n",
       "      <td>73</td>\n",
       "      <td>19492</td>\n",
       "      <td>2</td>\n",
       "      <td>18.279451</td>\n",
       "      <td>-66.037064</td>\n",
       "      <td>...</td>\n",
       "      <td>1</td>\n",
       "      <td>327.75</td>\n",
       "      <td>311.359985</td>\n",
       "      <td>-249.089996</td>\n",
       "      <td>South Asia</td>\n",
       "      <td>Rajastán</td>\n",
       "      <td>Pending</td>\n",
       "      <td>1360</td>\n",
       "      <td>1/18/2018 12:27</td>\n",
       "      <td>Standard Class</td>\n",
       "    </tr>\n",
       "    <tr>\n",
       "      <th>2</th>\n",
       "      <td>Cash</td>\n",
       "      <td>4</td>\n",
       "      <td>4</td>\n",
       "      <td>Shipping on time</td>\n",
       "      <td>Not Late</td>\n",
       "      <td>73</td>\n",
       "      <td>19491</td>\n",
       "      <td>2</td>\n",
       "      <td>37.292233</td>\n",
       "      <td>-121.881279</td>\n",
       "      <td>...</td>\n",
       "      <td>1</td>\n",
       "      <td>327.75</td>\n",
       "      <td>309.720001</td>\n",
       "      <td>-247.779999</td>\n",
       "      <td>South Asia</td>\n",
       "      <td>Rajastán</td>\n",
       "      <td>Closed</td>\n",
       "      <td>1360</td>\n",
       "      <td>1/17/2018 12:06</td>\n",
       "      <td>Standard Class</td>\n",
       "    </tr>\n",
       "    <tr>\n",
       "      <th>3</th>\n",
       "      <td>Debit</td>\n",
       "      <td>3</td>\n",
       "      <td>4</td>\n",
       "      <td>Advance shipping</td>\n",
       "      <td>Not Late</td>\n",
       "      <td>73</td>\n",
       "      <td>19490</td>\n",
       "      <td>2</td>\n",
       "      <td>34.125946</td>\n",
       "      <td>-118.291016</td>\n",
       "      <td>...</td>\n",
       "      <td>1</td>\n",
       "      <td>327.75</td>\n",
       "      <td>304.809998</td>\n",
       "      <td>22.860001</td>\n",
       "      <td>Oceania</td>\n",
       "      <td>Queensland</td>\n",
       "      <td>Complete</td>\n",
       "      <td>1360</td>\n",
       "      <td>1/16/2018 11:45</td>\n",
       "      <td>Standard Class</td>\n",
       "    </tr>\n",
       "    <tr>\n",
       "      <th>4</th>\n",
       "      <td>Payment</td>\n",
       "      <td>2</td>\n",
       "      <td>4</td>\n",
       "      <td>Advance shipping</td>\n",
       "      <td>Not Late</td>\n",
       "      <td>73</td>\n",
       "      <td>19489</td>\n",
       "      <td>2</td>\n",
       "      <td>18.253769</td>\n",
       "      <td>-66.037048</td>\n",
       "      <td>...</td>\n",
       "      <td>1</td>\n",
       "      <td>327.75</td>\n",
       "      <td>298.250000</td>\n",
       "      <td>134.210007</td>\n",
       "      <td>Oceania</td>\n",
       "      <td>Queensland</td>\n",
       "      <td>Pending Payment</td>\n",
       "      <td>1360</td>\n",
       "      <td>1/15/2018 11:24</td>\n",
       "      <td>Standard Class</td>\n",
       "    </tr>\n",
       "  </tbody>\n",
       "</table>\n",
       "<p>5 rows × 28 columns</p>\n",
       "</div>"
      ],
      "text/plain": [
       "  Transaction Type  Days of Shipping  Scheduled Days of Shipping  \\\n",
       "0            Debit                 3                           4   \n",
       "1         Transfer                 5                           4   \n",
       "2             Cash                 4                           4   \n",
       "3            Debit                 3                           4   \n",
       "4          Payment                 2                           4   \n",
       "\n",
       "    Delivery Status Late Delivery Risk  Category Id  Customer Id  \\\n",
       "0  Advance shipping           Not Late           73        20755   \n",
       "1     Late delivery               Late           73        19492   \n",
       "2  Shipping on time           Not Late           73        19491   \n",
       "3  Advance shipping           Not Late           73        19490   \n",
       "4  Advance shipping           Not Late           73        19489   \n",
       "\n",
       "   Department Id  Store Latitude  Store Longitude  ... Quantity  \\\n",
       "0              2       18.251453       -66.037056  ...        1   \n",
       "1              2       18.279451       -66.037064  ...        1   \n",
       "2              2       37.292233      -121.881279  ...        1   \n",
       "3              2       34.125946      -118.291016  ...        1   \n",
       "4              2       18.253769       -66.037048  ...        1   \n",
       "\n",
       "  Sales before Discount Sales after Discount      Profit    Order Region  \\\n",
       "0                327.75           314.640015   91.250000  Southeast Asia   \n",
       "1                327.75           311.359985 -249.089996      South Asia   \n",
       "2                327.75           309.720001 -247.779999      South Asia   \n",
       "3                327.75           304.809998   22.860001         Oceania   \n",
       "4                327.75           298.250000  134.210007         Oceania   \n",
       "\n",
       "       Order State     Order Status  Product Id    Shipping Date  \\\n",
       "0  Java Occidental         Complete        1360   2/3/2018 22:56   \n",
       "1         Rajastán          Pending        1360  1/18/2018 12:27   \n",
       "2         Rajastán           Closed        1360  1/17/2018 12:06   \n",
       "3       Queensland         Complete        1360  1/16/2018 11:45   \n",
       "4       Queensland  Pending Payment        1360  1/15/2018 11:24   \n",
       "\n",
       "    Shipping Mode  \n",
       "0  Standard Class  \n",
       "1  Standard Class  \n",
       "2  Standard Class  \n",
       "3  Standard Class  \n",
       "4  Standard Class  \n",
       "\n",
       "[5 rows x 28 columns]"
      ]
     },
     "execution_count": 202,
     "metadata": {},
     "output_type": "execute_result"
    }
   ],
   "source": [
    "df.head()"
   ]
  },
  {
   "cell_type": "code",
   "execution_count": 204,
   "id": "4ff7387b-ad31-46c7-8a4f-80f99f15b56e",
   "metadata": {},
   "outputs": [
    {
     "name": "stdout",
     "output_type": "stream",
     "text": [
      "['Debit' 'Transfer' 'Cash' 'Payment']\n",
      "[3 5 4 2 6 0 1]\n",
      "[4 1 2 0]\n",
      "['Advance shipping' 'Late delivery' 'Shipping on time' 'Shipping canceled']\n",
      "['Not Late' 'Late']\n",
      "[18.2514534  18.27945137 37.29223251 ... 18.24048233 18.26129723\n",
      " 18.24248505]\n",
      "[ -66.03705597  -66.0370636  -121.881279   ... -117.8856812   -87.69457245\n",
      "  -66.54897308]\n",
      "['Pacific Asia' 'USCA' 'Africa' 'Europe' 'LATAM']\n",
      "['Bekasi' 'Bikaner' 'Townsville' ... 'Tongling' 'Liuyang' 'Nashua']\n",
      "['Indonesia' 'India' 'Australia' 'China' 'Japón' 'Corea del Sur'\n",
      " 'Singapur' 'Turquía' 'Mongolia' 'Estados Unidos' 'Nigeria'\n",
      " 'República Democrática del Congo' 'Senegal' 'Marruecos' 'Alemania'\n",
      " 'Francia' 'Países Bajos' 'Reino Unido' 'Guatemala' 'El Salvador' 'Panamá'\n",
      " 'República Dominicana' 'Venezuela' 'Colombia' 'Honduras' 'Brasil'\n",
      " 'México' 'Uruguay' 'Argentina' 'Cuba' 'Perú' 'Nicaragua' 'Ecuador'\n",
      " 'Angola' 'Sudán' 'Somalia' 'Costa de Marfil' 'Egipto' 'Italia' 'España'\n",
      " 'Suecia' 'Austria' 'Canada' 'Madagascar' 'Argelia' 'Liberia' 'Zambia'\n",
      " 'Níger' 'SudAfrica' 'Mozambique' 'Tanzania' 'Ruanda' 'Israel'\n",
      " 'Nueva Zelanda' 'Bangladés' 'Tailandia' 'Irak' 'Arabia Saudí' 'Filipinas'\n",
      " 'Kazajistán' 'Irán' 'Myanmar (Birmania)' 'Uzbekistán' 'Benín' 'Camerún'\n",
      " 'Kenia' 'Togo' 'Ucrania' 'Polonia' 'Portugal' 'Rumania'\n",
      " 'Trinidad y Tobago' 'Afganistán' 'Pakistán' 'Vietnam' 'Malasia'\n",
      " 'Finlandia' 'Rusia' 'Irlanda' 'Noruega' 'Eslovaquia' 'Bélgica' 'Bolivia'\n",
      " 'Chile' 'Jamaica' 'Yemen' 'Ghana' 'Guinea' 'Etiopía' 'Bulgaria'\n",
      " 'Kirguistán' 'Georgia' 'Nepal' 'Emiratos Árabes Unidos' 'Camboya'\n",
      " 'Uganda' 'Lesoto' 'Lituania' 'Suiza' 'Hungría' 'Dinamarca' 'Haití'\n",
      " 'Bielorrusia' 'Croacia' 'Laos' 'Baréin' 'Macedonia' 'República Checa'\n",
      " 'Sri Lanka' 'Zimbabue' 'Eritrea' 'Burkina Faso' 'Costa Rica' 'Libia'\n",
      " 'Barbados' 'Tayikistán' 'Siria' 'Guadalupe' 'Papúa Nueva Guinea'\n",
      " 'Azerbaiyán' 'Turkmenistán' 'Paraguay' 'Jordania' 'Hong Kong' 'Martinica'\n",
      " 'Moldavia' 'Qatar' 'Mali' 'Albania' 'República del Congo'\n",
      " 'Bosnia y Herzegovina' 'Omán' 'Túnez' 'Sierra Leona' 'Yibuti' 'Burundi'\n",
      " 'Montenegro' 'Gabón' 'Sudán del Sur' 'Luxemburgo' 'Namibia' 'Mauritania'\n",
      " 'Grecia' 'Suazilandia' 'Guyana' 'Guayana Francesa'\n",
      " 'República Centroafricana' 'Taiwán' 'Estonia' 'Líbano' 'Chipre'\n",
      " 'Guinea-Bissau' 'Surinam' 'Belice' 'Eslovenia' 'República de Gambia'\n",
      " 'Botsuana' 'Armenia' 'Guinea Ecuatorial' 'Kuwait' 'Bután' 'Chad' 'Serbia'\n",
      " 'Sáhara Occidental']\n",
      "['1/31/2018 22:56' '1/13/2018 12:27' '1/13/2018 12:06' ...\n",
      " '1/21/2016 2:47' '1/20/2016 7:10' '1/17/2016 5:56']\n",
      "[ 13.10999966  16.38999939  18.03000069 ... 140.          33.65999985\n",
      "  61.18999863]\n",
      "[0.04       0.05       0.06       0.07       0.09       0.1\n",
      " 0.12       0.13       0.15000001 0.16       0.17       0.18000001\n",
      " 0.2        0.25       0.         0.01       0.02       0.03      ]\n",
      "[ 0.28999999 -0.80000001  0.08        0.44999999  0.06        0.33000001\n",
      "  0.23999999  0.47999999  0.17        0.1         0.05       -0.76999998\n",
      "  0.28        0.5         0.27000001  0.31        0.46000001  0.30000001\n",
      " -0.06        0.09       -0.30000001 -1.33000004  0.2         0.11\n",
      "  0.19        0.41999999  0.         -0.27000001 -1.54999995  0.34999999\n",
      " -0.25        0.25999999 -0.69999999  0.34        0.44        0.49000001\n",
      "  0.25        0.15000001  0.14       -1.60000002 -0.16        0.16\n",
      "  0.13        0.04        0.36000001  0.22       -0.1        -0.2\n",
      " -0.04        0.37999999 -1.64999998 -0.60000002 -0.05        0.18000001\n",
      "  0.47       -0.82999998 -0.55000001  0.03       -0.68000001 -0.14\n",
      "  0.12        0.23        0.07       -1.70000005 -0.19       -0.01\n",
      " -0.73000002  0.41       -2.70000005 -0.67000002 -0.20999999 -0.23\n",
      "  0.20999999 -1.5        -0.23999999 -0.88        0.02        0.37000001\n",
      "  0.43000001 -1.75       -0.18000001 -0.11        0.31999999 -0.44999999\n",
      "  0.38999999 -0.17       -0.08       -0.13       -0.74000001 -0.28\n",
      " -0.03       -0.09       -1.76999998 -0.63        0.01       -0.22\n",
      " -0.15000001 -0.40000001 -0.37999999 -0.33000001 -0.47999999  0.40000001\n",
      " -1.42999995 -0.64999998 -0.52999997 -2.75       -1.10000002 -0.07\n",
      " -0.62       -0.34       -1.47000003 -2.06999993 -0.85000002 -0.51999998\n",
      " -2.5999999  -2.04999995 -2.54999995 -0.63999999 -0.66000003 -2.20000005\n",
      " -2.5        -0.37000001 -0.34999999 -0.77999997 -1.57000005 -0.46000001\n",
      " -0.75       -0.5        -2.25       -0.43000001 -0.31       -1.29999995\n",
      " -0.86000001 -0.36000001 -0.56999999 -1.23000002 -1.04999995 -1.17999995\n",
      " -1.25       -0.49000001 -1.79999995 -0.25999999 -0.57999998 -0.31999999\n",
      " -0.56       -1.39999998 -0.98000002 -0.44       -2.3499999  -2.6500001\n",
      " -0.41999999 -1.20000005 -0.54000002 -0.02       -1.37000001 -2.45000005\n",
      " -0.93000001 -1.27999997 -0.89999998 -2.29999995 -1.08000004 -2.0999999 ]\n",
      "[1 2 3 5 4]\n",
      "[ 327.75        119.9800034    79.98000336  100.           89.98000336\n",
      "  109.9400024   299.9700012   119.9700012    65.97000122   95.97000122\n",
      "  179.9700012   150.          250.          199.9499969   239.9499969\n",
      "  159.9499969   449.9500122   149.9499969   299.9500122   499.9500122\n",
      "   99.98999786  129.9900055    59.99000168  299.980011    252.8800049\n",
      "  452.0400085  1500.          999.9899902    79.98999786   44.99000168\n",
      "  134.9700012    75.           74.97000122   47.97000122  239.9600067\n",
      "  200.          159.9600067    99.95999908  399.9599915   120.\n",
      "  215.8200073   461.480011    210.8500061   124.9499969    79.94999695\n",
      "  224.9499969   174.9499969   139.9499969   140.           50.\n",
      "   63.97999954   49.97999954   39.97999954   95.98000336  127.9599991\n",
      "  207.9600067   350.           99.94999695  399.9899902    27.98999977\n",
      "  299.9899902   357.1000061   125.           79.95999908  179.9600067\n",
      "  280.           59.08000183   31.97999954  199.9799957    55.97999954\n",
      "   60.           31.98999977   24.98999977  199.          399.980011\n",
      "   31.07999992   89.98999786   39.99000168   30.           19.98999977\n",
      "  109.9499969   164.3800049    11.28999996   63.95999908  191.9600067\n",
      "  319.9599915   111.9599991   139.9600067   379.9599915    89.94999695\n",
      "  259.9500122   495.           21.98999977  532.5800171    47.99000168\n",
      "   15.98999977   51.99000168  103.9800034    43.97999954   69.98000336\n",
      "   90.          104.9700012    44.           88.           22.\n",
      "   66.          110.           25.           70.          149.9900055\n",
      "   34.99000168  199.9900055    17.98999977   84.40000153  293.0400085\n",
      "  249.9900055   260.6499939   155.9700012   274.8500061    39.75\n",
      "   29.98999977  399.9500122    71.95999908  219.8800049   299.8500061\n",
      "  164.9100037    59.97000122  143.9700012   210.           83.97000122\n",
      "   53.97000122  329.9899902   159.9900055   599.9899902    54.97000122\n",
      "   59.97999954  199.8999939   284.9700012    89.97000122  119.9599991\n",
      "   87.95999908  159.9799957    35.97999954  297.          399.7999878\n",
      "  189.9799957   179.9799957   189.          359.9599915   499.75\n",
      "  474.9500122   239.9700012   124.9899979  1999.98999     198.\n",
      "  269.9700012   396.           99.           94.98999786   14.98999977\n",
      "   29.97999954   59.95999908   44.97000122   74.94999695  179.9900055\n",
      "   39.95999908   29.96999931   19.97999954    9.98999977   49.95000076\n",
      "  169.9900055   160.           80.          320.          400.\n",
      "  240.          325.           65.          130.          195.\n",
      "  260.          108.          300.          500.          119.9899979\n",
      "  209.9900055   109.9899979   134.9900055    11.53999996  349.9899902\n",
      "  149.9400024   249.8999939   199.9199982 ]\n",
      "[314.6400146 311.3599854 309.7200012 ... 298.769989  403.7099915\n",
      " 474.7600098]\n",
      "[  91.25      -249.0899963 -247.7799988 ... -103.9700012 -237.5899963\n",
      " -337.1000061]\n",
      "['Southeast Asia' 'South Asia' 'Oceania' 'Eastern Asia' 'West Asia'\n",
      " 'West of USA ' 'US Center ' 'West Africa' 'Central Africa' 'North Africa'\n",
      " 'Western Europe' 'Northern Europe' 'Central America' 'Caribbean'\n",
      " 'South America' 'East Africa' 'Southern Europe' 'East of USA' 'Canada'\n",
      " 'Southern Africa' 'Central Asia' 'Eastern Europe' 'South of  USA ']\n",
      "['Java Occidental' 'Rajastán' 'Queensland' ... 'Bistrita-Nasaud' 'Tottori'\n",
      " 'Khorezm']\n",
      "['Complete' 'Pending' 'Closed' 'Pending Payment' 'Canceled' 'Processing'\n",
      " 'Suspected Fraud' 'On Hold' 'Payment Review']\n",
      "['2/3/2018 22:56' '1/18/2018 12:27' '1/17/2018 12:06' ... '1/25/2016 2:47'\n",
      " '1/23/2016 7:10' '1/21/2016 5:56']\n",
      "['Standard Class' 'First Class' 'Second Class' 'Same Day']\n"
     ]
    }
   ],
   "source": [
    "print(df['Transaction Type'].unique())\n",
    "print(df['Days of Shipping'].unique())\n",
    "print(df['Scheduled Days of Shipping'].unique())\n",
    "print(df['Delivery Status'].unique())\n",
    "print(df['Late Delivery Risk'].unique())\n",
    "print(df['Store Latitude'].unique())\n",
    "print(df['Store Longitude'].unique())\n",
    "print(df['Order Continent'].unique())\n",
    "print(df['Order City'].unique())\n",
    "print(df['Order Country'].unique())\n",
    "print(df['Order Date'].unique())\n",
    "print(df['Discount'].unique())\n",
    "print(df['Discount Rate'].unique())\n",
    "print(df['Profit Ratio'].unique())\n",
    "print(df['Quantity'].unique())\n",
    "print(df['Sales before Discount'].unique())\n",
    "print(df['Sales after Discount'].unique())\n",
    "print(df['Profit'].unique())\n",
    "print(df['Order Region'].unique())\n",
    "print(df['Order State'].unique())\n",
    "print(df['Order Status'].unique())\n",
    "print(df['Shipping Date'].unique())\n",
    "print(df['Shipping Mode'].unique())"
   ]
  },
  {
   "cell_type": "code",
   "execution_count": 206,
   "id": "224c39bd-48b0-438d-86b6-ed3c67c41f13",
   "metadata": {},
   "outputs": [],
   "source": [
    "df['Order Country'] = df['Order Country'].replace('Israel', 'Palestine')"
   ]
  },
  {
   "cell_type": "code",
   "execution_count": 208,
   "id": "6916f960-ccc4-4bc4-968f-a5c8ccfbba34",
   "metadata": {},
   "outputs": [],
   "source": [
    "df['Order Continent'] = df['Order Continent'].replace({'Pacific Asia': 'Asia', 'USCA': 'North America', 'Africa': 'Africa', 'Europe': 'Europe', 'LATAM': 'South America'})"
   ]
  },
  {
   "cell_type": "code",
   "execution_count": 210,
   "id": "aa3d45e4-2a95-4706-b8f9-9d25c9d74846",
   "metadata": {},
   "outputs": [
    {
     "data": {
      "text/html": [
       "<a href=\"Orders.csv\" download=\"Orders.csv\">Click here to download the CSV</a>"
      ],
      "text/plain": [
       "<IPython.core.display.HTML object>"
      ]
     },
     "execution_count": 210,
     "metadata": {},
     "output_type": "execute_result"
    }
   ],
   "source": [
    "df.to_csv(\"Orders.csv\", index = False)\n",
    "HTML('<a href=\"Orders.csv\" download=\"Orders.csv\">Click here to download the CSV</a>')"
   ]
  },
  {
   "cell_type": "markdown",
   "id": "75c2e06f-4287-4fe5-b794-b273eb445069",
   "metadata": {
    "jp-MarkdownHeadingCollapsed": true
   },
   "source": [
    "### EDA"
   ]
  },
  {
   "cell_type": "code",
   "execution_count": 392,
   "id": "36762588-113b-4446-af98-9dba0eff52f9",
   "metadata": {},
   "outputs": [
    {
     "data": {
      "image/png": "[encoded data removed]",
      "text/plain": [
       "<Figure size 1000x500 with 1 Axes>"
      ]
     },
     "metadata": {},
     "output_type": "display_data"
    }
   ],
   "source": [
    "custom_palette = ['#387478', '#629584', '#243642', '#E2F1E7', '#76b7b2']\n",
    "sns.set_palette(custom_palette)\n",
    "plt.figure(figsize=(10, 5))\n",
    "sns.barplot(x='Order Continent', y='Sales after Discount', data=df)\n",
    "plt.title('Sales by Continent', fontsize=16)\n",
    "plt.xlabel('Order Continent', fontsize=12)\n",
    "plt.ylabel('Sales after Discount', fontsize=12)\n",
    "plt.show()"
   ]
  },
  {
   "cell_type": "markdown",
   "id": "ff8fb4f8-296c-4afb-8a3a-bb0998b6a289",
   "metadata": {},
   "source": [
    "* The bar plot Sales by Continent shows the data into continents like North America, Europe, and Asia with its sales."
   ]
  },
  {
   "cell_type": "code",
   "execution_count": 374,
   "id": "d6745e46-e40e-45d1-85f7-d7c58c707af4",
   "metadata": {},
   "outputs": [
    {
     "data": {
      "image/png": "[encoded data removed]",
      "text/plain": [
       "<Figure size 1000x400 with 1 Axes>"
      ]
     },
     "metadata": {},
     "output_type": "display_data"
    }
   ],
   "source": [
    "plt.figure(figsize=(10, 4))\n",
    "sns.countplot(x='Order Region', hue='Late Delivery Risk', data=df)\n",
    "plt.title('Late Delivery Risk by Region')\n",
    "plt.xlabel('Order Region')\n",
    "plt.ylabel('Count')\n",
    "plt.xticks(rotation=45)\n",
    "plt.show()"
   ]
  },
  {
   "cell_type": "markdown",
   "id": "4c8eceb5-63b1-40b1-9ced-392eac7c59bf",
   "metadata": {},
   "source": [
    "* The bar plot Late Delivery Risk by Region shows the data into regions such as North Aftica, Western Europe, and Central Asia with the late delivery risk."
   ]
  },
  {
   "cell_type": "code",
   "execution_count": 377,
   "id": "962c4a8c-01cc-4942-a562-e075cdfeaf91",
   "metadata": {},
   "outputs": [
    {
     "data": {
      "image/png": "[encoded data removed]",
      "text/plain": [
       "<Figure size 1200x600 with 1 Axes>"
      ]
     },
     "metadata": {},
     "output_type": "display_data"
    }
   ],
   "source": [
    "plt.figure(figsize=(12, 6))\n",
    "order_status_counts = df['Delivery Status'].value_counts()\n",
    "plt.pie(order_status_counts, labels=order_status_counts.index, autopct='%1.1f%%', startangle=10)\n",
    "plt.title('Delivery Status Distribution')\n",
    "plt.show()"
   ]
  },
  {
   "cell_type": "markdown",
   "id": "6dd5bcdb-2479-47fc-aa69-431557886e8d",
   "metadata": {},
   "source": [
    "* The pie chart Delivery Status Distribution shows the data into On Time, Late, Advanced, and Canceled."
   ]
  },
  {
   "cell_type": "code",
   "execution_count": 380,
   "id": "808384c3-f8a6-4f47-b658-87165beda73d",
   "metadata": {},
   "outputs": [
    {
     "data": {
      "image/png": "[encoded data removed]",
      "text/plain": [
       "<Figure size 1200x600 with 1 Axes>"
      ]
     },
     "metadata": {},
     "output_type": "display_data"
    }
   ],
   "source": [
    "plt.figure(figsize=(12, 6))\n",
    "shipping_mode_counts = df['Shipping Mode'].value_counts()\n",
    "plt.pie(shipping_mode_counts, labels=shipping_mode_counts.index, autopct='%1.1f%%', startangle=90)\n",
    "plt.title('Shipping Mode Distribution')\n",
    "plt.show()"
   ]
  },
  {
   "cell_type": "markdown",
   "id": "a68986fc-6161-4d54-a600-5478c8279d13",
   "metadata": {},
   "source": [
    "* The pie chart Shipping Mode Distribution shows the data into Standard Shipping, First class, Second class, and Same day across the number of orders."
   ]
  },
  {
   "cell_type": "code",
   "execution_count": 383,
   "id": "6d902f41-d124-46c0-9688-78dd58680f38",
   "metadata": {},
   "outputs": [
    {
     "data": {
      "image/png": "[encoded data removed]",
      "text/plain": [
       "<Figure size 800x500 with 1 Axes>"
      ]
     },
     "metadata": {},
     "output_type": "display_data"
    }
   ],
   "source": [
    "df['Order Date'] = pd.to_datetime(df['Order Date'])\n",
    "df['Year'] = df['Order Date'].dt.year.astype(int)\n",
    "plt.figure(figsize=(8, 5))\n",
    "sales_by_year = df.groupby('Year')['Sales after Discount'].sum().reset_index()\n",
    "sns.lineplot(data=sales_by_year, x='Year', y='Sales after Discount', marker='o')\n",
    "plt.title('Total Sales Over Years')\n",
    "plt.xlabel('Year')\n",
    "plt.ylabel('Total Sales After Discount')\n",
    "plt.xticks(sales_by_year['Year'].unique())\n",
    "plt.show()"
   ]
  },
  {
   "cell_type": "markdown",
   "id": "297a5d3c-f187-4b4d-81d3-3f60bf2bf7da",
   "metadata": {},
   "source": [
    "* The line plot Total Sales Over Time shows the sales by year."
   ]
  },
  {
   "cell_type": "code",
   "execution_count": 386,
   "id": "2910c86b-aaf9-4533-8cb5-27aba9ab3c39",
   "metadata": {},
   "outputs": [
    {
     "data": {
      "image/png": "[encoded data removed]",
      "text/plain": [
       "<Figure size 1200x600 with 1 Axes>"
      ]
     },
     "metadata": {},
     "output_type": "display_data"
    }
   ],
   "source": [
    "plt.figure(figsize=(8, 8))\n",
    "df['Order Continent'].value_counts().plot.pie(autopct='%1.1f%%', startangle=90, figsize=(12, 6))\n",
    "plt.title('Proportion of Orders by Continent', fontsize=16)\n",
    "plt.ylabel('')\n",
    "plt.show()"
   ]
  },
  {
   "cell_type": "markdown",
   "id": "46c423c0-5bff-4995-b4d4-e80ff1de019e",
   "metadata": {},
   "source": [
    "* The pie chart Proportion of Orders by Continent shows the data into North America, Europe, Asia, Africa, and South America across the number of orders."
   ]
  },
  {
   "cell_type": "code",
   "execution_count": 396,
   "id": "de7290d8-9966-40d5-a31a-f43d879587a1",
   "metadata": {},
   "outputs": [
    {
     "data": {
      "image/png": "[encoded data removed]",
      "text/plain": [
       "<Figure size 1200x600 with 1 Axes>"
      ]
     },
     "metadata": {},
     "output_type": "display_data"
    }
   ],
   "source": [
    "plt.figure(figsize=(8, 8))\n",
    "dfcus['Segment'].value_counts().plot.pie(autopct='%1.1f%%', startangle=90, figsize=(12, 6))\n",
    "plt.title('Proportion of Customers by Segment', fontsize=16)\n",
    "plt.ylabel('')\n",
    "plt.show()"
   ]
  },
  {
   "cell_type": "markdown",
   "id": "e312d7a9-0f92-4828-a6df-d18748957464",
   "metadata": {},
   "source": [
    "* The pie chart Proportion of Customers by Segment shows the data into Consumer, Corporate, and Home Office across the number of customers."
   ]
  },
  {
   "cell_type": "code",
   "execution_count": 389,
   "id": "8d02d53b-3d97-4800-ac90-135ce8ed0164",
   "metadata": {},
   "outputs": [
    {
     "data": {
      "image/png": "[encoded data removed]",
      "text/plain": [
       "<Figure size 800x400 with 1 Axes>"
      ]
     },
     "metadata": {},
     "output_type": "display_data"
    }
   ],
   "source": [
    "order_status_region = df.groupby(['Order Region', 'Delivery Status'])['Order Id'].count().unstack()\n",
    "order_status_region.plot(kind='bar', stacked=True, figsize=(8, 4))\n",
    "plt.title('Delivery Status by Region', fontsize=16)\n",
    "plt.xlabel('Order Region', fontsize=12)\n",
    "plt.ylabel('Count of Orders', fontsize=12)\n",
    "plt.show()"
   ]
  },
  {
   "cell_type": "markdown",
   "id": "a1cbbae0-2d32-4bd4-aa5d-65bce2944a8c",
   "metadata": {},
   "source": [
    "* The stacked bar plot Delivery Status by Region shows the data into Advanced, Late, On Time, and Cancelled orders across different regions."
   ]
  }
 ],
 "metadata": {
  "kernelspec": {
   "display_name": "Python 3 (ipykernel)",
   "language": "python",
   "name": "python3"
  },
  "language_info": {
   "codemirror_mode": {
    "name": "ipython",
    "version": 3
   },
   "file_extension": ".py",
   "mimetype": "text/x-python",
   "name": "python",
   "nbconvert_exporter": "python",
   "pygments_lexer": "ipython3",
   "version": "3.12.4"
  }
 },
 "nbformat": 4,
 "nbformat_minor": 5
}
